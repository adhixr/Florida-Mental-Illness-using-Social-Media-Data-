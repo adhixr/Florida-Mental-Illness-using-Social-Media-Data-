{
 "cells": [
  {
   "cell_type": "code",
   "execution_count": 43,
   "metadata": {},
   "outputs": [],
   "source": [
    "#!pip3 install snscrape"
   ]
  },
  {
   "cell_type": "code",
   "execution_count": 44,
   "metadata": {},
   "outputs": [],
   "source": [
    "# import pandas as pd\n",
    "# import snscrape.modules.twitter as sntwitter\n",
    "# import itertools"
   ]
  },
  {
   "cell_type": "code",
   "execution_count": 45,
   "metadata": {},
   "outputs": [],
   "source": [
    "# #tampa 100 mile radius - ptsd\n",
    "\n",
    "#run this in multiple iterations for each geocode and keyword combination\n",
    "\n",
    "# loc = '27.9506, -82.4572, 160km'\n",
    "# df_coord = pd.DataFrame(itertools.islice(sntwitter.TwitterSearchScraper(\n",
    "#     'ptsd geocode:\"{}\"'.format(loc)).get_items(), 10000))[['date', 'content']]\n",
    "\n",
    "# df_coord.head()\n",
    "\n",
    "\n"
   ]
  },
  {
   "cell_type": "code",
   "execution_count": 46,
   "metadata": {},
   "outputs": [],
   "source": [
    "#store the results in a df\n",
    "\n",
    "\n",
    "# from pathlib import Path  \n",
    "# filepath = Path('C:/AR Files/FBARBP/Data/tampa_ptsd_100miles.csv')  \n",
    "# filepath.parent.mkdir(parents=True, exist_ok=True)  \n",
    "# df_coord.to_csv(filepath) "
   ]
  },
  {
   "cell_type": "code",
   "execution_count": 47,
   "metadata": {},
   "outputs": [],
   "source": [
    "#fetch data city wise "
   ]
  },
  {
   "cell_type": "code",
   "execution_count": 48,
   "metadata": {},
   "outputs": [],
   "source": [
    "# df_city = pd.DataFrame(itertools.islice(sntwitter.TwitterSearchScraper(\n",
    "#     'abuse near:\"Miami,FL\" within:175km').get_items(), 10000))[['url','date','content','username']]\n",
    "    "
   ]
  },
  {
   "cell_type": "code",
   "execution_count": 49,
   "metadata": {},
   "outputs": [],
   "source": [
    "# from pathlib import Path  \n",
    "# filepath = Path('C:/AR Files/FBARBP/Data/miami_abuse_100miles_city.csv')  \n",
    "# filepath.parent.mkdir(parents=True, exist_ok=True)  \n",
    "# df_city.to_csv(filepath)"
   ]
  },
  {
   "cell_type": "code",
   "execution_count": 42,
   "metadata": {},
   "outputs": [],
   "source": [
    "#merge and clean all df's for final data prep"
   ]
  },
  {
   "cell_type": "code",
   "execution_count": 43,
   "metadata": {},
   "outputs": [
    {
     "name": "stderr",
     "output_type": "stream",
     "text": [
      "[nltk_data] Downloading package stopwords to C:\\Users\\Adhi\n",
      "[nltk_data]     Rajan\\AppData\\Roaming\\nltk_data...\n",
      "[nltk_data]   Package stopwords is already up-to-date!\n",
      "[nltk_data] Downloading package wordnet to C:\\Users\\Adhi\n",
      "[nltk_data]     Rajan\\AppData\\Roaming\\nltk_data...\n",
      "[nltk_data]   Package wordnet is already up-to-date!\n",
      "[nltk_data] Downloading package punkt to C:\\Users\\Adhi\n",
      "[nltk_data]     Rajan\\AppData\\Roaming\\nltk_data...\n",
      "[nltk_data]   Package punkt is already up-to-date!\n"
     ]
    },
    {
     "data": {
      "text/plain": [
       "True"
      ]
     },
     "execution_count": 43,
     "metadata": {},
     "output_type": "execute_result"
    }
   ],
   "source": [
    "#Data Analysis\n",
    "import pandas as pd\n",
    "import numpy as np\n",
    "import os\n",
    "import matplotlib.pyplot as plt\n",
    "from matplotlib.pyplot import figure\n",
    "%matplotlib inline\n",
    "import scipy\n",
    "#import seaborn as sns\n",
    "#import pandas_profiling\n",
    "from collections import Counter\n",
    "#import cv\n",
    "import datetime\n",
    "format=\"%Y-%m-%d\"\n",
    "\n",
    "#Feature Engineering & Models\n",
    "import sklearn\n",
    "from sklearn.feature_extraction.text import TfidfVectorizer\n",
    "from sklearn.model_selection import train_test_split\n",
    "from sklearn.feature_selection import chi2\n",
    "from sklearn.naive_bayes import MultinomialNB\n",
    "from sklearn.neighbors import KNeighborsClassifier\n",
    "from sklearn.linear_model import LogisticRegression\n",
    "from sklearn import metrics\n",
    "from sklearn.metrics import accuracy_score, confusion_matrix, classification_report\n",
    "from sklearn.model_selection import KFold\n",
    "from sklearn.model_selection import cross_val_score\n",
    "from sklearn.model_selection import ShuffleSplit\n",
    "\n",
    "#NLP\n",
    "import string\n",
    "import nltk\n",
    "from nltk.tokenize import RegexpTokenizer\n",
    "from nltk.tokenize import word_tokenize\n",
    "from nltk.corpus import stopwords\n",
    "from nltk.stem import WordNetLemmatizer\n",
    "nltk.download('stopwords')\n",
    "nltk.download('wordnet')\n",
    "stopwords = set(stopwords.words('english'))\n",
    "stopwords.update(['I', \"I'm\",'im', 'st', 'r', 'guys','hey','hello', 'hi'])\n",
    "\n",
    "import re\n",
    "#from wordcloud import WordCloud, ImageColorGenerator\n",
    "nltk.download('punkt')"
   ]
  },
  {
   "cell_type": "code",
   "execution_count": 44,
   "metadata": {},
   "outputs": [],
   "source": [
    "#!pip install pandas_profiling"
   ]
  },
  {
   "cell_type": "code",
   "execution_count": 45,
   "metadata": {},
   "outputs": [],
   "source": [
    "#import pandas_profiling"
   ]
  },
  {
   "cell_type": "code",
   "execution_count": 46,
   "metadata": {},
   "outputs": [],
   "source": [
    "#!pip install re "
   ]
  },
  {
   "cell_type": "code",
   "execution_count": 47,
   "metadata": {},
   "outputs": [],
   "source": [
    "import re\n"
   ]
  },
  {
   "cell_type": "code",
   "execution_count": 48,
   "metadata": {},
   "outputs": [],
   "source": [
    "#!pip install wordcloud"
   ]
  },
  {
   "cell_type": "code",
   "execution_count": 50,
   "metadata": {},
   "outputs": [],
   "source": [
    "#from wordcloud import WordCloud, ImageColorGenerator\n"
   ]
  },
  {
   "cell_type": "code",
   "execution_count": 51,
   "metadata": {},
   "outputs": [],
   "source": [
    "#nltk.download('punkt')"
   ]
  },
  {
   "cell_type": "code",
   "execution_count": 52,
   "metadata": {},
   "outputs": [],
   "source": [
    "reddit_df = pd.read_excel('C:/AR Files/FBARBP/Data/finalreddit.xlsx')"
   ]
  },
  {
   "cell_type": "code",
   "execution_count": 53,
   "metadata": {},
   "outputs": [],
   "source": [
    "reddit_df = pd.DataFrame(reddit_df)\n",
    "reddit_df = reddit_df[reddit_df['subreddit'].notna()]"
   ]
  },
  {
   "cell_type": "code",
   "execution_count": 54,
   "metadata": {},
   "outputs": [],
   "source": [
    "reddit_df = reddit_df.drop_duplicates(subset=['post'])"
   ]
  },
  {
   "cell_type": "code",
   "execution_count": 55,
   "metadata": {},
   "outputs": [
    {
     "data": {
      "text/html": [
       "<div>\n",
       "<style scoped>\n",
       "    .dataframe tbody tr th:only-of-type {\n",
       "        vertical-align: middle;\n",
       "    }\n",
       "\n",
       "    .dataframe tbody tr th {\n",
       "        vertical-align: top;\n",
       "    }\n",
       "\n",
       "    .dataframe thead th {\n",
       "        text-align: right;\n",
       "    }\n",
       "</style>\n",
       "<table border=\"1\" class=\"dataframe\">\n",
       "  <thead>\n",
       "    <tr style=\"text-align: right;\">\n",
       "      <th></th>\n",
       "      <th>subreddit</th>\n",
       "      <th>post</th>\n",
       "    </tr>\n",
       "  </thead>\n",
       "  <tbody>\n",
       "    <tr>\n",
       "      <th>0</th>\n",
       "      <td>alcoholism</td>\n",
       "      <td>I need to quit while im young (22m) Im going t...</td>\n",
       "    </tr>\n",
       "    <tr>\n",
       "      <th>1</th>\n",
       "      <td>alcoholism</td>\n",
       "      <td>Its 1:30am. So glad to be sober. I was at a Ne...</td>\n",
       "    </tr>\n",
       "    <tr>\n",
       "      <th>2</th>\n",
       "      <td>alcoholism</td>\n",
       "      <td>Might quit tomorrow but don't want to hurt mys...</td>\n",
       "    </tr>\n",
       "    <tr>\n",
       "      <th>3</th>\n",
       "      <td>alcoholism</td>\n",
       "      <td>Treating alcoholism with naltrexone using Sinc...</td>\n",
       "    </tr>\n",
       "    <tr>\n",
       "      <th>4</th>\n",
       "      <td>alcoholism</td>\n",
       "      <td>It took me being 6,000 in debt to realize I ne...</td>\n",
       "    </tr>\n",
       "  </tbody>\n",
       "</table>\n",
       "</div>"
      ],
      "text/plain": [
       "    subreddit                                               post\n",
       "0  alcoholism  I need to quit while im young (22m) Im going t...\n",
       "1  alcoholism  Its 1:30am. So glad to be sober. I was at a Ne...\n",
       "2  alcoholism  Might quit tomorrow but don't want to hurt mys...\n",
       "3  alcoholism  Treating alcoholism with naltrexone using Sinc...\n",
       "4  alcoholism  It took me being 6,000 in debt to realize I ne..."
      ]
     },
     "execution_count": 55,
     "metadata": {},
     "output_type": "execute_result"
    }
   ],
   "source": [
    "reddit_df.head()"
   ]
  },
  {
   "cell_type": "code",
   "execution_count": 56,
   "metadata": {},
   "outputs": [
    {
     "data": {
      "text/plain": [
       "Counter({'alcoholism': 5084,\n",
       "         'anxiety': 53797,\n",
       "         'bipolarreddit': 5186,\n",
       "         'depression': 111128,\n",
       "         'healthanxiety': 7849,\n",
       "         'mentalhealth': 40295,\n",
       "         'ptsd': 7553,\n",
       "         'schizophrenia': 7665,\n",
       "         'socialanxiety': 19656,\n",
       "         'suicidewatch': 61846})"
      ]
     },
     "execution_count": 56,
     "metadata": {},
     "output_type": "execute_result"
    }
   ],
   "source": [
    "Counter(reddit_df['subreddit'])"
   ]
  },
  {
   "cell_type": "code",
   "execution_count": 57,
   "metadata": {},
   "outputs": [],
   "source": [
    "#Distribution of posts by Mental Health category"
   ]
  },
  {
   "cell_type": "code",
   "execution_count": 58,
   "metadata": {},
   "outputs": [],
   "source": [
    "#!pip install seaborn "
   ]
  },
  {
   "cell_type": "code",
   "execution_count": 59,
   "metadata": {},
   "outputs": [],
   "source": [
    "import seaborn as sns"
   ]
  },
  {
   "cell_type": "code",
   "execution_count": 60,
   "metadata": {},
   "outputs": [
    {
     "data": {
      "image/png": "[encoded data removed]",
      "text/plain": [
       "<Figure size 1440x576 with 1 Axes>"
      ]
     },
     "metadata": {},
     "output_type": "display_data"
    }
   ],
   "source": [
    "%matplotlib inline\n",
    "sns.set(style='darkgrid')\n",
    "plt.figure(figsize=(20,8))\n",
    "ax = sns.countplot(x='subreddit', data=reddit_df)\n",
    "plt.savefig('counts.png')"
   ]
  },
  {
   "cell_type": "code",
   "execution_count": 61,
   "metadata": {},
   "outputs": [],
   "source": [
    "#Distribution of post lengths within each mental health category"
   ]
  },
  {
   "cell_type": "code",
   "execution_count": 62,
   "metadata": {},
   "outputs": [
    {
     "data": {
      "image/png": "[encoded data removed]",
      "text/plain": [
       "<Figure size 1296x720 with 4 Axes>"
      ]
     },
     "metadata": {},
     "output_type": "display_data"
    }
   ],
   "source": [
    "reddit_df['post_length'] = reddit_df['post'].str.len()\n",
    "\n",
    "\n",
    "fig = plt.figure(figsize=(18,10))\n",
    "\n",
    "rows=2\n",
    "columns = 2\n",
    "\n",
    "fig.add_subplot(rows, columns, 1)\n",
    "sns.histplot(reddit_df['post_length'][reddit_df['subreddit'] == 'depression'], kde=True)\n",
    "#plt.axis('off')\n",
    "plt.title('Depression')\n",
    "\n",
    "fig.add_subplot(rows, columns, 2)\n",
    "sns.histplot(reddit_df['post_length'][reddit_df['subreddit'] == 'anxiety'], kde=True)\n",
    "#plt.axis('off')\n",
    "plt.title('Anxiety')\n",
    "\n",
    "fig.add_subplot(rows, columns, 3)\n",
    "sns.histplot(reddit_df['post_length'][reddit_df['subreddit'] == 'bipolarreddit'], kde=True)\n",
    "#plt.axis('off')\n",
    "plt.title('Bipolar')\n",
    "\n",
    "fig.add_subplot(rows, columns, 4)\n",
    "sns.histplot(reddit_df['post_length'][reddit_df['subreddit'] == 'schizophrenia'], kde=True)\n",
    "#plt.axis('off')\n",
    "plt.title('Schizophrenia')\n",
    "\n",
    "\n",
    "plt.savefig('post_length.png')\n",
    "reddit_df['post_length'].describe()\n",
    "\n",
    "plt.show()\n"
   ]
  },
  {
   "cell_type": "code",
   "execution_count": 63,
   "metadata": {},
   "outputs": [
    {
     "data": {
      "image/png": "[encoded data removed]",
      "text/plain": [
       "<Figure size 1296x720 with 6 Axes>"
      ]
     },
     "metadata": {},
     "output_type": "display_data"
    }
   ],
   "source": [
    "reddit_df['post_length'] = reddit_df['post'].str.len()\n",
    "\n",
    "\n",
    "fig = plt.figure(figsize=(18,10))\n",
    "\n",
    "rows=3\n",
    "columns = 3\n",
    "\n",
    "fig.add_subplot(rows, columns, 5)\n",
    "sns.histplot(reddit_df['post_length'][reddit_df['subreddit'] == 'alcoholism'], kde=True)\n",
    "#plt.axis('off')\n",
    "plt.title('Alcoholism')\n",
    "\n",
    "fig.add_subplot(rows, columns, 6)\n",
    "sns.histplot(reddit_df['post_length'][reddit_df['subreddit'] == 'healthanxiety'], kde=True)\n",
    "#plt.axis('off')\n",
    "plt.title('Health Anxiety')\n",
    "\n",
    "fig.add_subplot(rows, columns, 7)\n",
    "sns.histplot(reddit_df['post_length'][reddit_df['subreddit'] == 'ptsd'], kde=True)\n",
    "#plt.axis('off')\n",
    "plt.title('PTSD')\n",
    "\n",
    "\n",
    "fig.add_subplot(rows, columns, 8)\n",
    "sns.histplot(reddit_df['post_length'][reddit_df['subreddit'] == 'mentalhealth'], kde=True)\n",
    "#plt.axis('off')\n",
    "plt.title('Mental Health')\n",
    "\n",
    "fig.add_subplot(rows, columns, 9)\n",
    "sns.histplot(reddit_df['post_length'][reddit_df['subreddit'] == 'socialanxiety'], kde=True)\n",
    "#plt.axis('off')\n",
    "plt.title('Social Anxiety')\n",
    "\n",
    "\n",
    "fig.add_subplot(rows, columns, 4)\n",
    "sns.histplot(reddit_df['post_length'][reddit_df['subreddit'] == 'suicidewatch'], kde=True)\n",
    "#plt.axis('off')\n",
    "plt.title('Suicide')\n",
    "\n",
    "\n",
    "plt.savefig('post_length.png')\n",
    "reddit_df['post_length'].describe()\n",
    "\n",
    "plt.show()\n",
    "\n",
    "\n",
    "\n",
    "\n",
    "\n",
    "\n"
   ]
  },
  {
   "cell_type": "code",
   "execution_count": 64,
   "metadata": {},
   "outputs": [
    {
     "data": {
      "image/png": "[encoded data removed]",
      "text/plain": [
       "<Figure size 432x288 with 1 Axes>"
      ]
     },
     "metadata": {},
     "output_type": "display_data"
    },
    {
     "data": {
      "text/plain": [
       "<Figure size 1440x576 with 0 Axes>"
      ]
     },
     "metadata": {},
     "output_type": "display_data"
    }
   ],
   "source": [
    "sns.boxplot(data=reddit_df, x='post_length', y='subreddit')\n",
    "plt.figure(figsize=(20,8))\n",
    "plt.show()"
   ]
  },
  {
   "cell_type": "code",
   "execution_count": 65,
   "metadata": {},
   "outputs": [],
   "source": [
    "#TEXT PREPROCESSING\n"
   ]
  },
  {
   "cell_type": "code",
   "execution_count": 66,
   "metadata": {},
   "outputs": [],
   "source": [
    "#p_test = pd.read_csv('TrainSA.csv')\n",
    "reddit_df.post=reddit_df.post.astype(str)"
   ]
  },
  {
   "cell_type": "code",
   "execution_count": 67,
   "metadata": {},
   "outputs": [
    {
     "name": "stderr",
     "output_type": "stream",
     "text": [
      "[nltk_data] Downloading package omw-1.4 to C:\\Users\\Adhi\n",
      "[nltk_data]     Rajan\\AppData\\Roaming\\nltk_data...\n",
      "[nltk_data]   Package omw-1.4 is already up-to-date!\n"
     ]
    },
    {
     "data": {
      "text/plain": [
       "True"
      ]
     },
     "execution_count": 67,
     "metadata": {},
     "output_type": "execute_result"
    }
   ],
   "source": [
    "import nltk\n",
    "nltk.download('omw-1.4')"
   ]
  },
  {
   "cell_type": "code",
   "execution_count": 68,
   "metadata": {},
   "outputs": [
    {
     "name": "stdout",
     "output_type": "stream",
     "text": [
      "Ive come to the conclusion Im an alcoholic Today I fucked up by starting my morning with my usual Natty Daddy. After working an hour I asked for a sick day. Bought a fifth of vodka on the way home. Drank 3/4 and blacked out before noon. Woke in piss on the couch.\n",
      "\n",
      "I usually drink at least 2 natty daddys a day. It doesnt seem like much, but Im miserable without it. I drink what I buy, so I try to manage my habits by œtrying to buy one at a time. Things always go wrong if I break that rule, like today.\n",
      "\n",
      "Im hardly ever drunk, and never hung over. Work and sleep is when I need it most. Im always dehydrated and sleep deprived. Dark rings under my eyes and no color to my skin is raising eyebrows at work.\n",
      "\n",
      "TLDR; drinking a minimum of 2 natty daddys a day up to consuming fifths lasting 2 Days, am I endangering myself by quitting cold turkey? Or is it hard to say and differs that much from person to person.\n",
      "\n",
      "Edit: would like to add Ive got an enlarged heart from drug abuse and my liver probably isnt the greatest from binging on robitussin 3 months straight (two ER visits) and taking a good number of Tylenol PMs and benedryls to make my pulse explode my fingertips while I was in rehab.\n",
      "          \n",
      "ive come to the conclusion im an alcoholic today i fucked up by starting my morning with my usual natty daddy. after working an hour i asked for a sick day. bought a fifth of vodka on the way home. drank 3/4 and blacked out before noon. woke in piss on the couch.\n",
      "\n",
      "i usually drink at least 2 natty daddys a day. it doesnt seem like much, but im miserable without it. i drink what i buy, so i try to manage my habits by œtrying to buy one at a time. things always go wrong if i break that rule, like today.\n",
      "\n",
      "im hardly ever drunk, and never hung over. work and sleep is when i need it most. im always dehydrated and sleep deprived. dark rings under my eyes and no color to my skin is raising eyebrows at work.\n",
      "\n",
      "tldr; drinking a minimum of 2 natty daddys a day up to consuming fifths lasting 2 days, am i endangering myself by quitting cold turkey? or is it hard to say and differs that much from person to person.\n",
      "\n",
      "edit: would like to add ive got an enlarged heart from drug abuse and my liver probably isnt the greatest from binging on robitussin 3 months straight (two er visits) and taking a good number of tylenol pms and benedryls to make my pulse explode my fingertips while i was in rehab.\n",
      "          \n",
      "ive come to the conclusion im an alcoholic today i fucked up by starting my morning with my usual natty daddy after working an hour i asked for a sick day bought a fifth of vodka on the way home drank 34 and blacked out before noon woke in piss on the couch\n",
      "\n",
      "i usually drink at least 2 natty daddys a day it doesnt seem like much but im miserable without it i drink what i buy so i try to manage my habits by œtrying to buy one at a time things always go wrong if i break that rule like today\n",
      "\n",
      "im hardly ever drunk and never hung over work and sleep is when i need it most im always dehydrated and sleep deprived dark rings under my eyes and no color to my skin is raising eyebrows at work\n",
      "\n",
      "tldr drinking a minimum of 2 natty daddys a day up to consuming fifths lasting 2 days am i endangering myself by quitting cold turkey or is it hard to say and differs that much from person to person\n",
      "\n",
      "edit would like to add ive got an enlarged heart from drug abuse and my liver probably isnt the greatest from binging on robitussin 3 months straight two er visits and taking a good number of tylenol pms and benedryls to make my pulse explode my fingertips while i was in rehab\n",
      "          \n",
      "['ive', 'come', 'to', 'the', 'conclusion', 'im', 'an', 'alcoholic', 'today', 'i', 'fucked', 'up', 'by', 'starting', 'my', 'morning', 'with', 'my', 'usual', 'natty', 'daddy', 'after', 'working', 'an', 'hour', 'i', 'asked', 'for', 'a', 'sick', 'day', 'bought', 'a', 'fifth', 'of', 'vodka', 'on', 'the', 'way', 'home', 'drank', '34', 'and', 'blacked', 'out', 'before', 'noon', 'woke', 'in', 'piss', 'on', 'the', 'couch', 'i', 'usually', 'drink', 'at', 'least', '2', 'natty', 'daddys', 'a', 'day', 'it', 'doesnt', 'seem', 'like', 'much', 'but', 'im', 'miserable', 'without', 'it', 'i', 'drink', 'what', 'i', 'buy', 'so', 'i', 'try', 'to', 'manage', 'my', 'habits', 'by', 'œtrying', 'to\\x9d', 'buy', 'one', 'at', 'a', 'time', 'things', 'always', 'go', 'wrong', 'if', 'i', 'break', 'that', 'rule', 'like', 'today', 'im', 'hardly', 'ever', 'drunk', 'and', 'never', 'hung', 'over', 'work', 'and', 'sleep', 'is', 'when', 'i', 'need', 'it', 'most', 'im', 'always', 'dehydrated', 'and', 'sleep', 'deprived', 'dark', 'rings', 'under', 'my', 'eyes', 'and', 'no', 'color', 'to', 'my', 'skin', 'is', 'raising', 'eyebrows', 'at', 'work', 'tldr', 'drinking', 'a', 'minimum', 'of', '2', 'natty', 'daddys', 'a', 'day', 'up', 'to', 'consuming', 'fifths', 'lasting', '2', 'days', 'am', 'i', 'endangering', 'myself', 'by', 'quitting', 'cold', 'turkey', 'or', 'is', 'it', 'hard', 'to', 'say', 'and', 'differs', 'that', 'much', 'from', 'person', 'to', 'person', 'edit', 'would', 'like', 'to', 'add', 'ive', 'got', 'an', 'enlarged', 'heart', 'from', 'drug', 'abuse', 'and', 'my', 'liver', 'probably', 'isnt', 'the', 'greatest', 'from', 'binging', 'on', 'robitussin', '3', 'months', 'straight', 'two', 'er', 'visits', 'and', 'taking', 'a', 'good', 'number', 'of', 'tylenol', 'pms', 'and', 'benedryls', 'to', 'make', 'my', 'pulse', 'explode', 'my', 'fingertips', 'while', 'i', 'was', 'in', 'rehab']\n",
      "          \n",
      "['ive', 'come', 'conclusion', 'alcoholic', 'today', 'fucked', 'starting', 'morning', 'usual', 'natty', 'daddy', 'working', 'hour', 'asked', 'sick', 'day', 'bought', 'fifth', 'vodka', 'way', 'home', 'drank', '34', 'blacked', 'noon', 'woke', 'piss', 'couch', 'usually', 'drink', 'least', '2', 'natty', 'daddys', 'day', 'doesnt', 'seem', 'like', 'much', 'miserable', 'without', 'drink', 'buy', 'try', 'manage', 'habits', 'œtrying', 'to\\x9d', 'buy', 'one', 'time', 'things', 'always', 'go', 'wrong', 'break', 'rule', 'like', 'today', 'hardly', 'ever', 'drunk', 'never', 'hung', 'work', 'sleep', 'need', 'always', 'dehydrated', 'sleep', 'deprived', 'dark', 'rings', 'eyes', 'color', 'skin', 'raising', 'eyebrows', 'work', 'tldr', 'drinking', 'minimum', '2', 'natty', 'daddys', 'day', 'consuming', 'fifths', 'lasting', '2', 'days', 'endangering', 'quitting', 'cold', 'turkey', 'hard', 'say', 'differs', 'much', 'person', 'person', 'edit', 'would', 'like', 'add', 'ive', 'got', 'enlarged', 'heart', 'drug', 'abuse', 'liver', 'probably', 'isnt', 'greatest', 'binging', 'robitussin', '3', 'months', 'straight', 'two', 'er', 'visits', 'taking', 'good', 'number', 'tylenol', 'pms', 'benedryls', 'make', 'pulse', 'explode', 'fingertips', 'rehab']\n",
      "          \n",
      "ive come conclusion alcoholic today fucked starting morning usual natty daddy working hour asked sick day bought fifth vodka way home drank 34 blacked noon woke piss couch usually drink least 2 natty daddys day doesnt seem like much miserable without drink buy try manage habits œtrying to buy one time things always go wrong break rule like today hardly ever drunk never hung work sleep need always dehydrated sleep deprived dark rings eyes color skin raising eyebrows work tldr drinking minimum 2 natty daddys day consuming fifths lasting 2 days endangering quitting cold turkey hard say differs much person person edit would like add ive got enlarged heart drug abuse liver probably isnt greatest binging robitussin 3 months straight two er visits taking good number tylenol pms benedryls make pulse explode fingertips rehab\n",
      "          \n",
      "ive come conclusion alcoholic today fuck start morning usual natty daddy work hour ask sick day buy fifth vodka way home drink 34 black noon wake piss couch usually drink least 2 natty daddys day doesnt seem like much miserable without drink buy try manage habit œtrying to buy one time things always go wrong break rule like today hardly ever drink never hang work sleep need always dehydrate sleep deprive dark ring eye color skin raise eyebrows work tldr drink minimum 2 natty daddys day consume fifths last 2 days endanger quit cold turkey hard say differ much person person edit would like add ive get enlarge heart drug abuse liver probably isnt greatest binge robitussin 3 months straight two er visit take good number tylenol pms benedryls make pulse explode fingertips rehab\n"
     ]
    }
   ],
   "source": [
    "#Data Cleaning - Content Field\n",
    "#Reddit posts are storied as a list of string values. To process each string value in the list, iterate the function over each string item in the list. Then return formatted lists\n",
    "# to string format\n",
    "\n",
    "print(reddit_df['post'][95])\n",
    "\n",
    "lowercase_posts = []\n",
    "for i in reddit_df.index:\n",
    "    lowercase_posts.append(reddit_df['post'][i].lower())\n",
    "\n",
    "reddit_df['post'] = lowercase_posts\n",
    "\n",
    "print('          ')\n",
    "print(reddit_df['post'][95])\n",
    "\n",
    "#Remove punctuation from posts\n",
    "strip_punctuation = []\n",
    "for i in reddit_df.index:\n",
    "    strip_punctuation.append(reddit_df['post'][i].translate(str.maketrans('','',string.punctuation)))\n",
    "\n",
    "reddit_df['post'] = strip_punctuation\n",
    "print('          ')\n",
    "print(reddit_df['post'][95])\n",
    "\n",
    "#Tokenize each string input to generate list of lists containing string values\n",
    "tokenized_posts = []\n",
    "for i in reddit_df.index:\n",
    "    tokenized_posts.append(word_tokenize(reddit_df['post'][i]))\n",
    "\n",
    "reddit_df['post'] = tokenized_posts\n",
    "print('          ')\n",
    "print(reddit_df['post'][95])\n",
    "\n",
    "#Remove stopwords\n",
    "\n",
    "filtered_posts = []\n",
    "for i in reddit_df.index:\n",
    "    filtered_posts.append([w for w in reddit_df['post'][i] if w not in stopwords])\n",
    "    \n",
    "reddit_df['post'] = filtered_posts\n",
    "print('          ')\n",
    "print(reddit_df['post'][95])\n",
    "\n",
    "#Convert processed text from list to string\n",
    "\n",
    "new_strings = []\n",
    "for i in reddit_df.index:\n",
    "    new_strings.append(' '.join(reddit_df['post'][i]))\n",
    "\n",
    "reddit_df['post'] = new_strings\n",
    "print('          ')\n",
    "print(reddit_df['post'][95])\n",
    "\n",
    "wn = WordNetLemmatizer()\n",
    "lemmatized_posts = []\n",
    "\n",
    "for i in reddit_df.index:\n",
    "    lemmatized_content = []\n",
    "    post = reddit_df['post'][i]\n",
    "    post_words = post.split(\" \")\n",
    "    for word in post_words:\n",
    "        lemmatized_content.append(wn.lemmatize(word, pos='v'))\n",
    "    lemmatized_post = \" \".join(lemmatized_content)\n",
    "    lemmatized_posts.append(lemmatized_post)\n",
    "\n",
    "reddit_df['post'] = lemmatized_posts\n",
    "print('          ')\n",
    "print(reddit_df['post'][95])\n",
    "\n",
    "#reddit_df"
   ]
  },
  {
   "cell_type": "code",
   "execution_count": 69,
   "metadata": {},
   "outputs": [],
   "source": [
    "#Numeric values are assigned to mental health categories by creating a dictionary of key value pairs in order to format the data for input into predictive models."
   ]
  },
  {
   "cell_type": "code",
   "execution_count": 70,
   "metadata": {},
   "outputs": [],
   "source": [
    "# Counter({'alcoholism': 5084,\n",
    "#          'anxiety': 53797,\n",
    "#          'bipolarreddit': 5186,\n",
    "#          'depression': 111127,\n",
    "#          'healthanxiety': 7848,\n",
    "#          'mentalhealth': 40273,\n",
    "#          'ptsd': 7552,\n",
    "#          'schizophrenia': 7663,\n",
    "#          'socialanxiety': 19651,\n",
    "#          'suicidewatch': 61833})"
   ]
  },
  {
   "cell_type": "code",
   "execution_count": 71,
   "metadata": {},
   "outputs": [
    {
     "data": {
      "text/html": [
       "<div>\n",
       "<style scoped>\n",
       "    .dataframe tbody tr th:only-of-type {\n",
       "        vertical-align: middle;\n",
       "    }\n",
       "\n",
       "    .dataframe tbody tr th {\n",
       "        vertical-align: top;\n",
       "    }\n",
       "\n",
       "    .dataframe thead th {\n",
       "        text-align: right;\n",
       "    }\n",
       "</style>\n",
       "<table border=\"1\" class=\"dataframe\">\n",
       "  <thead>\n",
       "    <tr style=\"text-align: right;\">\n",
       "      <th></th>\n",
       "      <th>post</th>\n",
       "      <th>subreddit</th>\n",
       "      <th>topic_code</th>\n",
       "    </tr>\n",
       "  </thead>\n",
       "  <tbody>\n",
       "    <tr>\n",
       "      <th>91126</th>\n",
       "      <td>ive worst depression dream yet synopsis one cl...</td>\n",
       "      <td>depression</td>\n",
       "      <td>3</td>\n",
       "    </tr>\n",
       "    <tr>\n",
       "      <th>45272</th>\n",
       "      <td>ladies struggle talk even datingrelationship b...</td>\n",
       "      <td>anxiety</td>\n",
       "      <td>1</td>\n",
       "    </tr>\n",
       "    <tr>\n",
       "      <th>258057</th>\n",
       "      <td>certain kind social anxiety 23 almost 24 idk w...</td>\n",
       "      <td>socialanxiety</td>\n",
       "      <td>8</td>\n",
       "    </tr>\n",
       "    <tr>\n",
       "      <th>102031</th>\n",
       "      <td>try work depression try wake every day reasona...</td>\n",
       "      <td>depression</td>\n",
       "      <td>3</td>\n",
       "    </tr>\n",
       "    <tr>\n",
       "      <th>254836</th>\n",
       "      <td>cant dance cant let loose everyone 28 easier t...</td>\n",
       "      <td>socialanxiety</td>\n",
       "      <td>8</td>\n",
       "    </tr>\n",
       "  </tbody>\n",
       "</table>\n",
       "</div>"
      ],
      "text/plain": [
       "                                                     post      subreddit  \\\n",
       "91126   ive worst depression dream yet synopsis one cl...     depression   \n",
       "45272   ladies struggle talk even datingrelationship b...        anxiety   \n",
       "258057  certain kind social anxiety 23 almost 24 idk w...  socialanxiety   \n",
       "102031  try work depression try wake every day reasona...     depression   \n",
       "254836  cant dance cant let loose everyone 28 easier t...  socialanxiety   \n",
       "\n",
       "        topic_code  \n",
       "91126            3  \n",
       "45272            1  \n",
       "258057           8  \n",
       "102031           3  \n",
       "254836           8  "
      ]
     },
     "execution_count": 71,
     "metadata": {},
     "output_type": "execute_result"
    }
   ],
   "source": [
    "topic_codes = {'alcoholism' : 0,\n",
    "                      'anxiety' : 1,\n",
    "                      'bipolarreddit' : 2,\n",
    "                      'depression' : 3,\n",
    "                        'healthanxiety' : 4,\n",
    "                      'mentalhealth' : 5,\n",
    "                      'ptsd' : 6,\n",
    "                        'schizophrenia' : 7,\n",
    "                      'socialanxiety' : 8,\n",
    "                      'suicidewatch' : 9            \n",
    "              \n",
    "              \n",
    "              }\n",
    "\n",
    "reddit_df['topic_code'] = reddit_df['subreddit']\n",
    "reddit_df = reddit_df.replace({'topic_code':topic_codes})\n",
    "\n",
    "reddit_df[['post','subreddit','topic_code']].sample(frac=1).head()"
   ]
  },
  {
   "cell_type": "code",
   "execution_count": 72,
   "metadata": {},
   "outputs": [],
   "source": [
    "#TF IDF AND N GRAMS "
   ]
  },
  {
   "cell_type": "code",
   "execution_count": 73,
   "metadata": {},
   "outputs": [],
   "source": [
    "ngram_range = (1,2)\n",
    "min_df = 0\n",
    "max_df = 1.0\n",
    "max_features = 500  #We'll use 500 features as it is well above the average post length\n",
    "stop_words = stopwords"
   ]
  },
  {
   "cell_type": "code",
   "execution_count": 74,
   "metadata": {},
   "outputs": [],
   "source": [
    "#KFold & Train-Test Split Preparation"
   ]
  },
  {
   "cell_type": "code",
   "execution_count": 75,
   "metadata": {},
   "outputs": [
    {
     "name": "stdout",
     "output_type": "stream",
     "text": [
      "(320059, 500)\n"
     ]
    }
   ],
   "source": [
    "#Here data is prepared for use with cross_val_scores, using KFold cross validation\n",
    "tfidf = TfidfVectorizer(encoding = 'utf-8', \n",
    "                       ngram_range = ngram_range,\n",
    "                       min_df = min_df,\n",
    "                       max_df = max_df,\n",
    "                       lowercase=False, \n",
    "                       max_features = max_features,\n",
    "                       stop_words = None, \n",
    "                       norm = 'l2', \n",
    "                       sublinear_tf = True)\n",
    "\n",
    "x = tfidf.fit_transform(reddit_df['post']).toarray()\n",
    "y = reddit_df['topic_code']\n",
    "print(x.shape)"
   ]
  },
  {
   "cell_type": "code",
   "execution_count": 76,
   "metadata": {},
   "outputs": [
    {
     "name": "stdout",
     "output_type": "stream",
     "text": [
      "(256047, 500)\n",
      "(64012, 500)\n"
     ]
    }
   ],
   "source": [
    "#Here, data is split into training and testing data for quick sample testing & confusion matrix\n",
    "\n",
    "x_train, x_test, y_train, y_test = train_test_split(reddit_df['post'], reddit_df['topic_code'], test_size = 0.20, random_state=9)\n",
    "\n",
    "tfidf = TfidfVectorizer(encoding = 'utf-8', \n",
    "                       ngram_range = ngram_range,\n",
    "                       min_df = min_df,\n",
    "                       max_df = max_df,\n",
    "                       lowercase=False, \n",
    "                       max_features = max_features,\n",
    "                       stop_words = None, \n",
    "                       norm = 'l2', \n",
    "                       sublinear_tf = True)\n",
    "\n",
    "features_train = tfidf.fit_transform(x_train).toarray()\n",
    "labels_train = y_train\n",
    "print(features_train.shape)\n",
    "\n",
    "features_test = tfidf.transform(x_test).toarray()\n",
    "labels_test = y_test\n",
    "print(features_test.shape)\n"
   ]
  },
  {
   "cell_type": "code",
   "execution_count": 77,
   "metadata": {},
   "outputs": [
    {
     "data": {
      "text/plain": [
       "[('feel', 381662),\n",
       " ('get', 331535),\n",
       " ('like', 323088),\n",
       " ('dont', 303610),\n",
       " ('go', 278148),\n",
       " ('know', 243462),\n",
       " ('want', 235823),\n",
       " ('ive', 204881),\n",
       " ('think', 195898),\n",
       " ('time', 182217),\n",
       " ('make', 169514),\n",
       " ('life', 159122),\n",
       " ('cant', 149745),\n",
       " ('really', 149409),\n",
       " ('people', 145229),\n",
       " ('even', 144019),\n",
       " ('try', 127188),\n",
       " ('help', 126271),\n",
       " ('anxiety', 119811),\n",
       " ('would', 115526),\n",
       " ('one', 115342),\n",
       " ('say', 112090),\n",
       " ('work', 108933),\n",
       " ('take', 104667),\n",
       " ('tell', 99175)]"
      ]
     },
     "execution_count": 77,
     "metadata": {},
     "output_type": "execute_result"
    }
   ],
   "source": [
    "#Check which words occur most frequently in the training dataset:\n",
    "wordcounts = Counter(' '.join(x_train).split()).most_common()\n",
    "wordcounts[:25]"
   ]
  },
  {
   "cell_type": "code",
   "execution_count": 78,
   "metadata": {},
   "outputs": [
    {
     "data": {
      "text/plain": [
       "['10',\n",
       " 'able',\n",
       " 'absolutely',\n",
       " 'abuse',\n",
       " 'accept',\n",
       " 'act',\n",
       " 'actually',\n",
       " 'advice',\n",
       " 'afraid',\n",
       " 'age',\n",
       " 'ago',\n",
       " 'alive',\n",
       " 'almost',\n",
       " 'alone',\n",
       " 'already',\n",
       " 'also',\n",
       " 'always',\n",
       " 'amp',\n",
       " 'ampx200b',\n",
       " 'angry',\n",
       " 'another',\n",
       " 'answer',\n",
       " 'anxiety',\n",
       " 'anxious',\n",
       " 'anymore']"
      ]
     },
     "execution_count": 78,
     "metadata": {},
     "output_type": "execute_result"
    }
   ],
   "source": [
    "#View words used as features in TFIDF\n",
    "features_example = tfidf.get_feature_names()\n",
    "features_example[:25]"
   ]
  },
  {
   "cell_type": "code",
   "execution_count": 79,
   "metadata": {},
   "outputs": [
    {
     "data": {
      "text/plain": [
       "'need quit young 22m go hardcore withdrawls anxiety feel like die go hospital hear die alcohol withdrawls sign look sorry really scar dont wan na die hardest withdrawl ive ever deal drink energy drink last night fuck tweeking mess stock fluids dribking hella water poweraid need tip fuck alcohol hard quit'"
      ]
     },
     "execution_count": 79,
     "metadata": {},
     "output_type": "execute_result"
    }
   ],
   "source": [
    "x_train[0]"
   ]
  },
  {
   "cell_type": "code",
   "execution_count": 80,
   "metadata": {},
   "outputs": [
    {
     "data": {
      "text/plain": [
       "array([0.        , 0.        , 0.        , 0.        , 0.        ,\n",
       "       0.        , 0.        , 0.        , 0.        , 0.        ,\n",
       "       0.        , 0.        , 0.        , 0.        , 0.        ,\n",
       "       0.        , 0.        , 0.        , 0.        , 0.        ,\n",
       "       0.        , 0.        , 0.        , 0.        , 0.        ,\n",
       "       0.        , 0.        , 0.        , 0.        , 0.        ,\n",
       "       0.        , 0.        , 0.        , 0.        , 0.        ,\n",
       "       0.        , 0.        , 0.22224506, 0.        , 0.        ,\n",
       "       0.        , 0.        , 0.        , 0.        , 0.        ,\n",
       "       0.        , 0.        , 0.        , 0.        , 0.        ,\n",
       "       0.        , 0.        , 0.        , 0.        , 0.        ,\n",
       "       0.        , 0.        , 0.        , 0.        , 0.        ,\n",
       "       0.        , 0.        , 0.        , 0.        , 0.        ,\n",
       "       0.        , 0.        , 0.        , 0.        , 0.        ,\n",
       "       0.        , 0.        , 0.        , 0.        , 0.        ,\n",
       "       0.        , 0.        , 0.        , 0.        , 0.        ,\n",
       "       0.        , 0.        , 0.        , 0.        , 0.        ,\n",
       "       0.        , 0.        , 0.        , 0.        , 0.        ,\n",
       "       0.        , 0.        , 0.        , 0.        , 0.        ,\n",
       "       0.        , 0.        , 0.        , 0.        , 0.        ,\n",
       "       0.        , 0.24835631, 0.        , 0.        , 0.        ,\n",
       "       0.        , 0.        , 0.        , 0.        , 0.        ,\n",
       "       0.        , 0.        , 0.        , 0.        , 0.        ,\n",
       "       0.        , 0.        , 0.        , 0.        , 0.        ,\n",
       "       0.22079995, 0.        , 0.        , 0.        , 0.        ,\n",
       "       0.        , 0.        , 0.        , 0.        , 0.        ,\n",
       "       0.        , 0.        , 0.        , 0.        , 0.        ,\n",
       "       0.        , 0.        , 0.        , 0.        , 0.        ,\n",
       "       0.        , 0.        , 0.        , 0.        , 0.        ,\n",
       "       0.        , 0.        , 0.        , 0.        , 0.        ,\n",
       "       0.        , 0.        , 0.        , 0.        , 0.        ,\n",
       "       0.        , 0.        , 0.        , 0.        , 0.        ,\n",
       "       0.        , 0.        , 0.        , 0.        , 0.        ,\n",
       "       0.        , 0.        , 0.        , 0.        , 0.        ,\n",
       "       0.        , 0.        , 0.        , 0.        , 0.        ,\n",
       "       0.        , 0.        , 0.        , 0.        , 0.13466013,\n",
       "       0.        , 0.        , 0.        , 0.        , 0.21653904,\n",
       "       0.        , 0.        , 0.        , 0.        , 0.        ,\n",
       "       0.        , 0.        , 0.        , 0.        , 0.        ,\n",
       "       0.        , 0.        , 0.        , 0.        , 0.        ,\n",
       "       0.        , 0.        , 0.        , 0.        , 0.        ,\n",
       "       0.        , 0.        , 0.        , 0.        , 0.        ,\n",
       "       0.        , 0.        , 0.        , 0.        , 0.        ,\n",
       "       0.29080951, 0.        , 0.        , 0.        , 0.        ,\n",
       "       0.        , 0.        , 0.        , 0.        , 0.        ,\n",
       "       0.        , 0.        , 0.        , 0.        , 0.        ,\n",
       "       0.        , 0.        , 0.        , 0.        , 0.        ,\n",
       "       0.        , 0.        , 0.        , 0.        , 0.        ,\n",
       "       0.        , 0.        , 0.        , 0.        , 0.        ,\n",
       "       0.34387193, 0.        , 0.        , 0.        , 0.        ,\n",
       "       0.        , 0.        , 0.        , 0.        , 0.        ,\n",
       "       0.        , 0.        , 0.        , 0.        , 0.        ,\n",
       "       0.        , 0.        , 0.        , 0.        , 0.        ,\n",
       "       0.        , 0.        , 0.        , 0.        , 0.        ,\n",
       "       0.        , 0.        , 0.        , 0.        , 0.        ,\n",
       "       0.        , 0.        , 0.        , 0.        , 0.        ,\n",
       "       0.        , 0.        , 0.        , 0.        , 0.        ,\n",
       "       0.        , 0.        , 0.        , 0.        , 0.        ,\n",
       "       0.        , 0.        , 0.        , 0.        , 0.        ,\n",
       "       0.        , 0.        , 0.        , 0.        , 0.        ,\n",
       "       0.        , 0.        , 0.        , 0.        , 0.        ,\n",
       "       0.        , 0.        , 0.        , 0.        , 0.        ,\n",
       "       0.        , 0.        , 0.        , 0.        , 0.        ,\n",
       "       0.        , 0.        , 0.        , 0.        , 0.        ,\n",
       "       0.        , 0.        , 0.        , 0.        , 0.        ,\n",
       "       0.        , 0.        , 0.        , 0.        , 0.        ,\n",
       "       0.        , 0.        , 0.        , 0.        , 0.        ,\n",
       "       0.        , 0.        , 0.        , 0.        , 0.        ,\n",
       "       0.        , 0.        , 0.        , 0.        , 0.        ,\n",
       "       0.        , 0.        , 0.        , 0.        , 0.        ,\n",
       "       0.        , 0.        , 0.        , 0.        , 0.        ,\n",
       "       0.        , 0.        , 0.        , 0.        , 0.        ,\n",
       "       0.        , 0.        , 0.        , 0.        , 0.        ,\n",
       "       0.        , 0.        , 0.        , 0.        , 0.        ,\n",
       "       0.        , 0.        , 0.        , 0.        , 0.        ,\n",
       "       0.        , 0.        , 0.        , 0.        , 0.        ,\n",
       "       0.        , 0.        , 0.        , 0.        , 0.        ,\n",
       "       0.        , 0.        , 0.        , 0.        , 0.        ,\n",
       "       0.        , 0.20314142, 0.        , 0.55325787, 0.        ,\n",
       "       0.        , 0.        , 0.        , 0.        , 0.36284077,\n",
       "       0.        , 0.        , 0.        , 0.        , 0.        ,\n",
       "       0.        , 0.        , 0.        , 0.        , 0.        ,\n",
       "       0.        , 0.        , 0.        , 0.        , 0.        ,\n",
       "       0.        , 0.        , 0.        , 0.        , 0.        ,\n",
       "       0.        , 0.        , 0.        , 0.        , 0.        ,\n",
       "       0.        , 0.        , 0.        , 0.        , 0.        ,\n",
       "       0.        , 0.        , 0.        , 0.23548769, 0.        ,\n",
       "       0.        , 0.        , 0.        , 0.        , 0.        ,\n",
       "       0.        , 0.        , 0.        , 0.        , 0.        ,\n",
       "       0.        , 0.        , 0.        , 0.        , 0.        ,\n",
       "       0.        , 0.        , 0.        , 0.        , 0.        ,\n",
       "       0.        , 0.        , 0.        , 0.        , 0.        ,\n",
       "       0.        , 0.        , 0.        , 0.        , 0.        ,\n",
       "       0.        , 0.        , 0.        , 0.        , 0.        ,\n",
       "       0.        , 0.        , 0.        , 0.        , 0.        ,\n",
       "       0.        , 0.        , 0.        , 0.        , 0.        ,\n",
       "       0.        , 0.        , 0.        , 0.        , 0.        ,\n",
       "       0.19458802, 0.        , 0.        , 0.        , 0.        ,\n",
       "       0.        , 0.        , 0.        , 0.        , 0.        ,\n",
       "       0.        , 0.        , 0.        , 0.        , 0.        ])"
      ]
     },
     "execution_count": 80,
     "metadata": {},
     "output_type": "execute_result"
    }
   ],
   "source": [
    "features_train[0]"
   ]
  },
  {
   "cell_type": "code",
   "execution_count": 81,
   "metadata": {},
   "outputs": [],
   "source": [
    "#Chi2 Correlation Analysis"
   ]
  },
  {
   "cell_type": "code",
   "execution_count": 82,
   "metadata": {},
   "outputs": [
    {
     "name": "stdout",
     "output_type": "stream",
     "text": [
      "# 'alcoholism':\n",
      "  . Top correlated unigrams:\n",
      "    . anxiety\n",
      "    . day\n",
      "    . hes\n",
      "    . week\n",
      "    . stop\n",
      "    . days\n",
      "    . problem\n",
      "    . night\n",
      "    . quit\n",
      "    . drink\n",
      "  . Top correlated bigrams:\n",
      "    . panic attack\n",
      "    . want die\n",
      "    . feel like\n",
      "# 'anxiety':\n",
      "  . Top correlated unigrams:\n",
      "    . depress\n",
      "    . fear\n",
      "    . worry\n",
      "    . suicide\n",
      "    . kill\n",
      "    . calm\n",
      "    . panic\n",
      "    . anxious\n",
      "    . attack\n",
      "    . anxiety\n",
      "  . Top correlated bigrams:\n",
      "    . want die\n",
      "    . anyone else\n",
      "    . panic attack\n",
      "# 'bipolarreddit':\n",
      "  . Top correlated unigrams:\n",
      "    . doctor\n",
      "    . take\n",
      "    . side\n",
      "    . medication\n",
      "    . experience\n",
      "    . effect\n",
      "    . disorder\n",
      "    . psychiatrist\n",
      "    . diagnose\n",
      "    . meds\n",
      "  . Top correlated bigrams:\n",
      "    . dont know\n",
      "    . social anxiety\n",
      "    . anyone else\n",
      "# 'depression':\n",
      "  . Top correlated unigrams:\n",
      "    . motivation\n",
      "    . ptsd\n",
      "    . sad\n",
      "    . happy\n",
      "    . anxious\n",
      "    . attack\n",
      "    . panic\n",
      "    . depress\n",
      "    . anxiety\n",
      "    . depression\n",
      "  . Top correlated bigrams:\n",
      "    . mental health\n",
      "    . social anxiety\n",
      "    . panic attack\n",
      "# 'healthanxiety':\n",
      "  . Top correlated unigrams:\n",
      "    . check\n",
      "    . side\n",
      "    . chest\n",
      "    . health\n",
      "    . pain\n",
      "    . heart\n",
      "    . worry\n",
      "    . doctor\n",
      "    . test\n",
      "    . symptoms\n",
      "  . Top correlated bigrams:\n",
      "    . social anxiety\n",
      "    . dont want\n",
      "    . come back\n",
      "# 'mentalhealth':\n",
      "  . Top correlated unigrams:\n",
      "    . help\n",
      "    . advice\n",
      "    . fuck\n",
      "    . psychiatrist\n",
      "    . diagnose\n",
      "    . therapist\n",
      "    . issue\n",
      "    . disorder\n",
      "    . health\n",
      "    . mental\n",
      "  . Top correlated bigrams:\n",
      "    . want die\n",
      "    . need help\n",
      "    . mental health\n",
      "# 'ptsd':\n",
      "  . Top correlated unigrams:\n",
      "    . symptoms\n",
      "    . remember\n",
      "    . experience\n",
      "    . happen\n",
      "    . therapist\n",
      "    . diagnose\n",
      "    . therapy\n",
      "    . abuse\n",
      "    . trigger\n",
      "    . ptsd\n",
      "  . Top correlated bigrams:\n",
      "    . want die\n",
      "    . social anxiety\n",
      "    . years ago\n",
      "# 'schizophrenia':\n",
      "  . Top correlated unigrams:\n",
      "    . question\n",
      "    . medication\n",
      "    . believe\n",
      "    . anxiety\n",
      "    . experience\n",
      "    . meds\n",
      "    . diagnose\n",
      "    . symptoms\n",
      "    . hear\n",
      "    . voice\n",
      "  . Top correlated bigrams:\n",
      "    . feel like\n",
      "    . social anxiety\n",
      "    . want die\n",
      "# 'socialanxiety':\n",
      "  . Top correlated unigrams:\n",
      "    . meet\n",
      "    . depression\n",
      "    . anxious\n",
      "    . speak\n",
      "    . talk\n",
      "    . class\n",
      "    . people\n",
      "    . anxiety\n",
      "    . group\n",
      "    . social\n",
      "  . Top correlated bigrams:\n",
      "    . mental health\n",
      "    . want die\n",
      "    . social anxiety\n",
      "# 'suicidewatch':\n",
      "  . Top correlated unigrams:\n",
      "    . attempt\n",
      "    . alive\n",
      "    . live\n",
      "    . end\n",
      "    . anymore\n",
      "    . suicidal\n",
      "    . anxiety\n",
      "    . die\n",
      "    . suicide\n",
      "    . kill\n",
      "  . Top correlated bigrams:\n",
      "    . panic attack\n",
      "    . dont want\n",
      "    . want die\n"
     ]
    }
   ],
   "source": [
    "for Subreddit, topic_code in sorted(topic_codes.items()):\n",
    "    features_chi2 = chi2(features_train, labels_train == topic_code)\n",
    "    indices = np.argsort(features_chi2[0])\n",
    "    feature_names = np.array(tfidf.get_feature_names())[indices]\n",
    "    unigrams = [w for w in feature_names if len(w.split(' '))==1]\n",
    "    bigrams = [w for w in feature_names if len(w.split(' '))==2]\n",
    "    print(\"# '{}':\".format(Subreddit))\n",
    "    print(\"  . Top correlated unigrams:\\n    . {}\".format('\\n    . '.join(unigrams[-10:])))\n",
    "    print(\"  . Top correlated bigrams:\\n    . {}\".format('\\n    . '.join(bigrams[-3:])))"
   ]
  },
  {
   "cell_type": "code",
   "execution_count": 84,
   "metadata": {},
   "outputs": [],
   "source": [
    "#MODEL EVALUATION"
   ]
  },
  {
   "cell_type": "code",
   "execution_count": 85,
   "metadata": {},
   "outputs": [],
   "source": [
    "# #Get current parameters\n",
    "# from sklearn.naive_bayes import MultinomialNB\n",
    "# mnb = MultinomialNB()\n",
    "# print(mnb.get_params())\n",
    "\n",
    "# #For Naive Bayes, the parameters will be left unchanged"
   ]
  },
  {
   "cell_type": "code",
   "execution_count": 86,
   "metadata": {},
   "outputs": [],
   "source": [
    "# #Using KFold cross validation. Splitting into train and test data is taken care of for each iteration, so declaring x_train, x_test etc. is not necessary. Based on low variation \n",
    "# #in fold scores for each metric, mean is selected to determine the value for each metric to assign to the model.\n",
    "# cv = ShuffleSplit(n_splits=10, test_size=0.2, random_state=0)\n",
    "\n",
    "# model_evaluation_kfold_mnb = {}\n",
    "# accuracy_scores = cross_val_score(mnb, x, y, cv=cv, scoring = 'accuracy')\n",
    "# print('Accuracy Fold Scores')\n",
    "# print(accuracy_scores)\n",
    "# model_evaluation_kfold_mnb.update({'Accuracy': accuracy_scores.mean()})\n",
    "\n",
    "# print('Precision Fold Scores')\n",
    "# precision_scores = cross_val_score(mnb, x, y, cv=cv, scoring = 'precision_weighted') \n",
    "# print(precision_scores)\n",
    "# model_evaluation_kfold_mnb.update({'Precision': precision_scores.mean()})\n",
    "\n",
    "# print('Recall Fold Scores')\n",
    "# recall_scores = cross_val_score(mnb, x, y, cv=cv, scoring = 'recall_weighted') \n",
    "# print(recall_scores)\n",
    "# model_evaluation_kfold_mnb.update({'Recall': recall_scores.mean()})\n",
    "\n",
    "# print('F1 Fold Scores')\n",
    "# f1_scores = cross_val_score(mnb, x, y, cv=cv, scoring = 'f1_weighted')\n",
    "# print(f1_scores)\n",
    "# model_evaluation_kfold_mnb.update({'F1': f1_scores.mean()})\n",
    "\n",
    "# model_evaluation_kfold_mnb"
   ]
  },
  {
   "cell_type": "code",
   "execution_count": 87,
   "metadata": {},
   "outputs": [],
   "source": [
    "# #To generate Confusion Matrix, use train test split as a sample and perform \n",
    "# from sklearn.naive_bayes import MultinomialNB\n",
    "# mnb = MultinomialNB()\n",
    "\n",
    "# #Fit model to training data\n",
    "# mnb_model = mnb.fit(features_train, labels_train)\n",
    "\n",
    "# #Predict outputs from the model using our test data\n",
    "# mnb_predictions = mnb_model.predict(features_test)\n",
    "\n",
    "# #Print model evaluation report\n",
    "# print (\"Multiple Naive Bayes Classification Report\")\n",
    "# print(classification_report(labels_test, mnb_predictions))\n",
    "\n",
    "# #Confusion Matrix\n",
    "\n",
    "# figure(figsize=(8, 6), dpi=80)\n",
    "# cfmatrix = confusion_matrix(labels_test, mnb_predictions)\n",
    "# sns.heatmap(cfmatrix, annot=True, xticklabels=['alcoholism','anxiety','bipolarreddit','depression','healthanxiety','mentalhealth', 'ptsd','schizophrenia','socialanxiety','suicidewatch'], yticklabels=['alcoholism','anxiety','bipolarreddit','depression','healthanxiety','mentalhealth','ptsd','schizophrenia','socialanxiety','suicidewatch'])\n",
    "\n",
    "# plt.ylabel('Actual')\n",
    "# plt.xlabel('Predicted')\n",
    "# plt.title('Naive Bayes Confusion Matrix')\n",
    "\n",
    "# #Create dictionary to store values for model comparison. Include model accuracy on both Training and Testing data to ensure model isn't overfit\n",
    "\n",
    "# model_evaluation = {'Naive Bayes' : [accuracy_score(labels_train, mnb.predict(features_train)),accuracy_score(labels_test, mnb_predictions)]}\n",
    "\n",
    "# model_evaluation"
   ]
  },
  {
   "cell_type": "code",
   "execution_count": 88,
   "metadata": {},
   "outputs": [],
   "source": [
    "# Counter({'alcoholism': 5084,\n",
    "#          'anxiety': 53797,\n",
    "#          'bipolarreddit': 5186,\n",
    "#          'depression': 111127,\n",
    "#          'healthanxiety': 7848,\n",
    "#          'mentalhealth': 40273,\n",
    "#          'ptsd': 7552,\n",
    "#          'schizophrenia': 7663,\n",
    "#          'socialanxiety': 19651,\n",
    "#          'suicidewatch': 61833})\n",
    "\n",
    "\n",
    "# 'alcoholism'\n",
    "#          'anxiety': 53797,\n",
    "#          'bipolarreddit': 5186,\n",
    "#          'depression': 111127,\n",
    "#          'healthanxiety': 7848,\n",
    "#          'mentalhealth': 40273,\n",
    "#          'ptsd': 7552,\n",
    "#          'schizophrenia': 7663,\n",
    "#          'socialanxiety': 19651,\n",
    "#          'suicidewatch': 61833})\n"
   ]
  },
  {
   "cell_type": "markdown",
   "metadata": {},
   "source": [
    "### Logistic Regression"
   ]
  },
  {
   "cell_type": "code",
   "execution_count": 89,
   "metadata": {},
   "outputs": [
    {
     "name": "stdout",
     "output_type": "stream",
     "text": [
      "{'C': 1.0, 'class_weight': None, 'dual': False, 'fit_intercept': True, 'intercept_scaling': 1, 'l1_ratio': None, 'max_iter': 100, 'multi_class': 'auto', 'n_jobs': None, 'penalty': 'l2', 'random_state': None, 'solver': 'lbfgs', 'tol': 0.0001, 'verbose': 0, 'warm_start': False}\n"
     ]
    }
   ],
   "source": [
    "#Get current parameters\n",
    "from sklearn.linear_model import LogisticRegression\n",
    "lgreg = LogisticRegression()\n",
    "print(lgreg.get_params())\n",
    "#In order to use logistic regression for multiclass (non-binary) classification, we have to set the multi_class parameter. We will choose OVR (One vs Rest) Classification"
   ]
  },
  {
   "cell_type": "code",
   "execution_count": 90,
   "metadata": {},
   "outputs": [],
   "source": [
    "#One vs Rest and Multinomial classification will be tested\n",
    "lgreg = LogisticRegression(multi_class='ovr', max_iter = 300) #One vs rest classification\n",
    "lgregm = LogisticRegression(multi_class='multinomial', max_iter = 300) #Multinomial classification"
   ]
  },
  {
   "cell_type": "code",
   "execution_count": 91,
   "metadata": {},
   "outputs": [
    {
     "name": "stdout",
     "output_type": "stream",
     "text": [
      "Accuracy Fold Scores\n",
      "[0.60405861 0.60569893 0.59966881 0.60449603 0.60204337 0.60251203\n",
      " 0.60088733 0.59777854 0.60388677 0.5982472 ]\n",
      "Precision Fold Scores\n",
      "[0.59928357 0.6019779  0.59500158 0.60036473 0.59922878 0.59798865\n",
      " 0.59641027 0.59317898 0.59925439 0.594028  ]\n",
      "Recall Fold Scores\n",
      "[0.60405861 0.60569893 0.59966881 0.60449603 0.60204337 0.60251203\n",
      " 0.60088733 0.59777854 0.60388677 0.5982472 ]\n",
      "F1 Fold Scores\n",
      "[0.58890413 0.59139938 0.58478021 0.58942178 0.58766733 0.58753395\n",
      " 0.58665786 0.58304396 0.5895786  0.58345349]\n"
     ]
    },
    {
     "data": {
      "text/plain": [
       "{'Accuracy': 0.6019277635443354,\n",
       " 'Precision': 0.5976716849825199,\n",
       " 'Recall': 0.6019277635443354,\n",
       " 'F1': 0.5872440681915427}"
      ]
     },
     "execution_count": 91,
     "metadata": {},
     "output_type": "execute_result"
    }
   ],
   "source": [
    "#Using KFold cross validation for One vs rest classification\n",
    "cv = ShuffleSplit(n_splits=10, test_size=0.2, random_state=0)\n",
    "\n",
    "model_evaluation_kfold_lgreg = {}\n",
    "accuracy_scores = cross_val_score(lgreg, x, y, cv=cv, scoring = 'accuracy')\n",
    "print('Accuracy Fold Scores')\n",
    "print(accuracy_scores)\n",
    "model_evaluation_kfold_lgreg.update({'Accuracy': accuracy_scores.mean()})\n",
    "\n",
    "print('Precision Fold Scores')\n",
    "precision_scores = cross_val_score(lgreg, x, y, cv=cv, scoring = 'precision_weighted') \n",
    "print(precision_scores)\n",
    "model_evaluation_kfold_lgreg.update({'Precision': precision_scores.mean()})\n",
    "\n",
    "print('Recall Fold Scores')\n",
    "recall_scores = cross_val_score(lgreg, x, y, cv=cv, scoring = 'recall_weighted') \n",
    "print(recall_scores)\n",
    "model_evaluation_kfold_lgreg.update({'Recall': recall_scores.mean()})\n",
    "\n",
    "print('F1 Fold Scores')\n",
    "f1_scores = cross_val_score(lgreg, x, y, cv=cv, scoring = 'f1_weighted')\n",
    "print(f1_scores)\n",
    "model_evaluation_kfold_lgreg.update({'F1': f1_scores.mean()})\n",
    "\n",
    "model_evaluation_kfold_lgreg"
   ]
  },
  {
   "cell_type": "code",
   "execution_count": 92,
   "metadata": {},
   "outputs": [
    {
     "name": "stderr",
     "output_type": "stream",
     "text": [
      "C:\\Anaconda\\lib\\site-packages\\sklearn\\linear_model\\_logistic.py:763: ConvergenceWarning: lbfgs failed to converge (status=1):\n",
      "STOP: TOTAL NO. of ITERATIONS REACHED LIMIT.\n",
      "\n",
      "Increase the number of iterations (max_iter) or scale the data as shown in:\n",
      "    https://scikit-learn.org/stable/modules/preprocessing.html\n",
      "Please also refer to the documentation for alternative solver options:\n",
      "    https://scikit-learn.org/stable/modules/linear_model.html#logistic-regression\n",
      "  n_iter_i = _check_optimize_result(\n",
      "C:\\Anaconda\\lib\\site-packages\\sklearn\\linear_model\\_logistic.py:763: ConvergenceWarning: lbfgs failed to converge (status=1):\n",
      "STOP: TOTAL NO. of ITERATIONS REACHED LIMIT.\n",
      "\n",
      "Increase the number of iterations (max_iter) or scale the data as shown in:\n",
      "    https://scikit-learn.org/stable/modules/preprocessing.html\n",
      "Please also refer to the documentation for alternative solver options:\n",
      "    https://scikit-learn.org/stable/modules/linear_model.html#logistic-regression\n",
      "  n_iter_i = _check_optimize_result(\n",
      "C:\\Anaconda\\lib\\site-packages\\sklearn\\linear_model\\_logistic.py:763: ConvergenceWarning: lbfgs failed to converge (status=1):\n",
      "STOP: TOTAL NO. of ITERATIONS REACHED LIMIT.\n",
      "\n",
      "Increase the number of iterations (max_iter) or scale the data as shown in:\n",
      "    https://scikit-learn.org/stable/modules/preprocessing.html\n",
      "Please also refer to the documentation for alternative solver options:\n",
      "    https://scikit-learn.org/stable/modules/linear_model.html#logistic-regression\n",
      "  n_iter_i = _check_optimize_result(\n",
      "C:\\Anaconda\\lib\\site-packages\\sklearn\\linear_model\\_logistic.py:763: ConvergenceWarning: lbfgs failed to converge (status=1):\n",
      "STOP: TOTAL NO. of ITERATIONS REACHED LIMIT.\n",
      "\n",
      "Increase the number of iterations (max_iter) or scale the data as shown in:\n",
      "    https://scikit-learn.org/stable/modules/preprocessing.html\n",
      "Please also refer to the documentation for alternative solver options:\n",
      "    https://scikit-learn.org/stable/modules/linear_model.html#logistic-regression\n",
      "  n_iter_i = _check_optimize_result(\n",
      "C:\\Anaconda\\lib\\site-packages\\sklearn\\linear_model\\_logistic.py:763: ConvergenceWarning: lbfgs failed to converge (status=1):\n",
      "STOP: TOTAL NO. of ITERATIONS REACHED LIMIT.\n",
      "\n",
      "Increase the number of iterations (max_iter) or scale the data as shown in:\n",
      "    https://scikit-learn.org/stable/modules/preprocessing.html\n",
      "Please also refer to the documentation for alternative solver options:\n",
      "    https://scikit-learn.org/stable/modules/linear_model.html#logistic-regression\n",
      "  n_iter_i = _check_optimize_result(\n",
      "C:\\Anaconda\\lib\\site-packages\\sklearn\\linear_model\\_logistic.py:763: ConvergenceWarning: lbfgs failed to converge (status=1):\n",
      "STOP: TOTAL NO. of ITERATIONS REACHED LIMIT.\n",
      "\n",
      "Increase the number of iterations (max_iter) or scale the data as shown in:\n",
      "    https://scikit-learn.org/stable/modules/preprocessing.html\n",
      "Please also refer to the documentation for alternative solver options:\n",
      "    https://scikit-learn.org/stable/modules/linear_model.html#logistic-regression\n",
      "  n_iter_i = _check_optimize_result(\n",
      "C:\\Anaconda\\lib\\site-packages\\sklearn\\linear_model\\_logistic.py:763: ConvergenceWarning: lbfgs failed to converge (status=1):\n",
      "STOP: TOTAL NO. of ITERATIONS REACHED LIMIT.\n",
      "\n",
      "Increase the number of iterations (max_iter) or scale the data as shown in:\n",
      "    https://scikit-learn.org/stable/modules/preprocessing.html\n",
      "Please also refer to the documentation for alternative solver options:\n",
      "    https://scikit-learn.org/stable/modules/linear_model.html#logistic-regression\n",
      "  n_iter_i = _check_optimize_result(\n",
      "C:\\Anaconda\\lib\\site-packages\\sklearn\\linear_model\\_logistic.py:763: ConvergenceWarning: lbfgs failed to converge (status=1):\n",
      "STOP: TOTAL NO. of ITERATIONS REACHED LIMIT.\n",
      "\n",
      "Increase the number of iterations (max_iter) or scale the data as shown in:\n",
      "    https://scikit-learn.org/stable/modules/preprocessing.html\n",
      "Please also refer to the documentation for alternative solver options:\n",
      "    https://scikit-learn.org/stable/modules/linear_model.html#logistic-regression\n",
      "  n_iter_i = _check_optimize_result(\n",
      "C:\\Anaconda\\lib\\site-packages\\sklearn\\linear_model\\_logistic.py:763: ConvergenceWarning: lbfgs failed to converge (status=1):\n",
      "STOP: TOTAL NO. of ITERATIONS REACHED LIMIT.\n",
      "\n",
      "Increase the number of iterations (max_iter) or scale the data as shown in:\n",
      "    https://scikit-learn.org/stable/modules/preprocessing.html\n",
      "Please also refer to the documentation for alternative solver options:\n",
      "    https://scikit-learn.org/stable/modules/linear_model.html#logistic-regression\n",
      "  n_iter_i = _check_optimize_result(\n",
      "C:\\Anaconda\\lib\\site-packages\\sklearn\\linear_model\\_logistic.py:763: ConvergenceWarning: lbfgs failed to converge (status=1):\n",
      "STOP: TOTAL NO. of ITERATIONS REACHED LIMIT.\n",
      "\n",
      "Increase the number of iterations (max_iter) or scale the data as shown in:\n",
      "    https://scikit-learn.org/stable/modules/preprocessing.html\n",
      "Please also refer to the documentation for alternative solver options:\n",
      "    https://scikit-learn.org/stable/modules/linear_model.html#logistic-regression\n",
      "  n_iter_i = _check_optimize_result(\n"
     ]
    },
    {
     "name": "stdout",
     "output_type": "stream",
     "text": [
      "Accuracy Fold Scores\n",
      "[0.6036212  0.60490221 0.59849716 0.60276198 0.60209023 0.60046554\n",
      " 0.60112166 0.59821596 0.60352746 0.59998125]\n",
      "Precision Fold Scores\n"
     ]
    },
    {
     "name": "stderr",
     "output_type": "stream",
     "text": [
      "C:\\Anaconda\\lib\\site-packages\\sklearn\\linear_model\\_logistic.py:763: ConvergenceWarning: lbfgs failed to converge (status=1):\n",
      "STOP: TOTAL NO. of ITERATIONS REACHED LIMIT.\n",
      "\n",
      "Increase the number of iterations (max_iter) or scale the data as shown in:\n",
      "    https://scikit-learn.org/stable/modules/preprocessing.html\n",
      "Please also refer to the documentation for alternative solver options:\n",
      "    https://scikit-learn.org/stable/modules/linear_model.html#logistic-regression\n",
      "  n_iter_i = _check_optimize_result(\n",
      "C:\\Anaconda\\lib\\site-packages\\sklearn\\linear_model\\_logistic.py:763: ConvergenceWarning: lbfgs failed to converge (status=1):\n",
      "STOP: TOTAL NO. of ITERATIONS REACHED LIMIT.\n",
      "\n",
      "Increase the number of iterations (max_iter) or scale the data as shown in:\n",
      "    https://scikit-learn.org/stable/modules/preprocessing.html\n",
      "Please also refer to the documentation for alternative solver options:\n",
      "    https://scikit-learn.org/stable/modules/linear_model.html#logistic-regression\n",
      "  n_iter_i = _check_optimize_result(\n",
      "C:\\Anaconda\\lib\\site-packages\\sklearn\\linear_model\\_logistic.py:763: ConvergenceWarning: lbfgs failed to converge (status=1):\n",
      "STOP: TOTAL NO. of ITERATIONS REACHED LIMIT.\n",
      "\n",
      "Increase the number of iterations (max_iter) or scale the data as shown in:\n",
      "    https://scikit-learn.org/stable/modules/preprocessing.html\n",
      "Please also refer to the documentation for alternative solver options:\n",
      "    https://scikit-learn.org/stable/modules/linear_model.html#logistic-regression\n",
      "  n_iter_i = _check_optimize_result(\n",
      "C:\\Anaconda\\lib\\site-packages\\sklearn\\linear_model\\_logistic.py:763: ConvergenceWarning: lbfgs failed to converge (status=1):\n",
      "STOP: TOTAL NO. of ITERATIONS REACHED LIMIT.\n",
      "\n",
      "Increase the number of iterations (max_iter) or scale the data as shown in:\n",
      "    https://scikit-learn.org/stable/modules/preprocessing.html\n",
      "Please also refer to the documentation for alternative solver options:\n",
      "    https://scikit-learn.org/stable/modules/linear_model.html#logistic-regression\n",
      "  n_iter_i = _check_optimize_result(\n",
      "C:\\Anaconda\\lib\\site-packages\\sklearn\\linear_model\\_logistic.py:763: ConvergenceWarning: lbfgs failed to converge (status=1):\n",
      "STOP: TOTAL NO. of ITERATIONS REACHED LIMIT.\n",
      "\n",
      "Increase the number of iterations (max_iter) or scale the data as shown in:\n",
      "    https://scikit-learn.org/stable/modules/preprocessing.html\n",
      "Please also refer to the documentation for alternative solver options:\n",
      "    https://scikit-learn.org/stable/modules/linear_model.html#logistic-regression\n",
      "  n_iter_i = _check_optimize_result(\n",
      "C:\\Anaconda\\lib\\site-packages\\sklearn\\linear_model\\_logistic.py:763: ConvergenceWarning: lbfgs failed to converge (status=1):\n",
      "STOP: TOTAL NO. of ITERATIONS REACHED LIMIT.\n",
      "\n",
      "Increase the number of iterations (max_iter) or scale the data as shown in:\n",
      "    https://scikit-learn.org/stable/modules/preprocessing.html\n",
      "Please also refer to the documentation for alternative solver options:\n",
      "    https://scikit-learn.org/stable/modules/linear_model.html#logistic-regression\n",
      "  n_iter_i = _check_optimize_result(\n",
      "C:\\Anaconda\\lib\\site-packages\\sklearn\\linear_model\\_logistic.py:763: ConvergenceWarning: lbfgs failed to converge (status=1):\n",
      "STOP: TOTAL NO. of ITERATIONS REACHED LIMIT.\n",
      "\n",
      "Increase the number of iterations (max_iter) or scale the data as shown in:\n",
      "    https://scikit-learn.org/stable/modules/preprocessing.html\n",
      "Please also refer to the documentation for alternative solver options:\n",
      "    https://scikit-learn.org/stable/modules/linear_model.html#logistic-regression\n",
      "  n_iter_i = _check_optimize_result(\n",
      "C:\\Anaconda\\lib\\site-packages\\sklearn\\linear_model\\_logistic.py:763: ConvergenceWarning: lbfgs failed to converge (status=1):\n",
      "STOP: TOTAL NO. of ITERATIONS REACHED LIMIT.\n",
      "\n",
      "Increase the number of iterations (max_iter) or scale the data as shown in:\n",
      "    https://scikit-learn.org/stable/modules/preprocessing.html\n",
      "Please also refer to the documentation for alternative solver options:\n",
      "    https://scikit-learn.org/stable/modules/linear_model.html#logistic-regression\n",
      "  n_iter_i = _check_optimize_result(\n",
      "C:\\Anaconda\\lib\\site-packages\\sklearn\\linear_model\\_logistic.py:763: ConvergenceWarning: lbfgs failed to converge (status=1):\n",
      "STOP: TOTAL NO. of ITERATIONS REACHED LIMIT.\n",
      "\n",
      "Increase the number of iterations (max_iter) or scale the data as shown in:\n",
      "    https://scikit-learn.org/stable/modules/preprocessing.html\n",
      "Please also refer to the documentation for alternative solver options:\n",
      "    https://scikit-learn.org/stable/modules/linear_model.html#logistic-regression\n",
      "  n_iter_i = _check_optimize_result(\n",
      "C:\\Anaconda\\lib\\site-packages\\sklearn\\linear_model\\_logistic.py:763: ConvergenceWarning: lbfgs failed to converge (status=1):\n",
      "STOP: TOTAL NO. of ITERATIONS REACHED LIMIT.\n",
      "\n",
      "Increase the number of iterations (max_iter) or scale the data as shown in:\n",
      "    https://scikit-learn.org/stable/modules/preprocessing.html\n",
      "Please also refer to the documentation for alternative solver options:\n",
      "    https://scikit-learn.org/stable/modules/linear_model.html#logistic-regression\n",
      "  n_iter_i = _check_optimize_result(\n"
     ]
    },
    {
     "name": "stdout",
     "output_type": "stream",
     "text": [
      "[0.5980347  0.59964262 0.59240528 0.59659505 0.59814294 0.59462873\n",
      " 0.59530929 0.59293986 0.59800446 0.59475651]\n",
      "Recall Fold Scores\n"
     ]
    },
    {
     "name": "stderr",
     "output_type": "stream",
     "text": [
      "C:\\Anaconda\\lib\\site-packages\\sklearn\\linear_model\\_logistic.py:763: ConvergenceWarning: lbfgs failed to converge (status=1):\n",
      "STOP: TOTAL NO. of ITERATIONS REACHED LIMIT.\n",
      "\n",
      "Increase the number of iterations (max_iter) or scale the data as shown in:\n",
      "    https://scikit-learn.org/stable/modules/preprocessing.html\n",
      "Please also refer to the documentation for alternative solver options:\n",
      "    https://scikit-learn.org/stable/modules/linear_model.html#logistic-regression\n",
      "  n_iter_i = _check_optimize_result(\n",
      "C:\\Anaconda\\lib\\site-packages\\sklearn\\linear_model\\_logistic.py:763: ConvergenceWarning: lbfgs failed to converge (status=1):\n",
      "STOP: TOTAL NO. of ITERATIONS REACHED LIMIT.\n",
      "\n",
      "Increase the number of iterations (max_iter) or scale the data as shown in:\n",
      "    https://scikit-learn.org/stable/modules/preprocessing.html\n",
      "Please also refer to the documentation for alternative solver options:\n",
      "    https://scikit-learn.org/stable/modules/linear_model.html#logistic-regression\n",
      "  n_iter_i = _check_optimize_result(\n",
      "C:\\Anaconda\\lib\\site-packages\\sklearn\\linear_model\\_logistic.py:763: ConvergenceWarning: lbfgs failed to converge (status=1):\n",
      "STOP: TOTAL NO. of ITERATIONS REACHED LIMIT.\n",
      "\n",
      "Increase the number of iterations (max_iter) or scale the data as shown in:\n",
      "    https://scikit-learn.org/stable/modules/preprocessing.html\n",
      "Please also refer to the documentation for alternative solver options:\n",
      "    https://scikit-learn.org/stable/modules/linear_model.html#logistic-regression\n",
      "  n_iter_i = _check_optimize_result(\n",
      "C:\\Anaconda\\lib\\site-packages\\sklearn\\linear_model\\_logistic.py:763: ConvergenceWarning: lbfgs failed to converge (status=1):\n",
      "STOP: TOTAL NO. of ITERATIONS REACHED LIMIT.\n",
      "\n",
      "Increase the number of iterations (max_iter) or scale the data as shown in:\n",
      "    https://scikit-learn.org/stable/modules/preprocessing.html\n",
      "Please also refer to the documentation for alternative solver options:\n",
      "    https://scikit-learn.org/stable/modules/linear_model.html#logistic-regression\n",
      "  n_iter_i = _check_optimize_result(\n",
      "C:\\Anaconda\\lib\\site-packages\\sklearn\\linear_model\\_logistic.py:763: ConvergenceWarning: lbfgs failed to converge (status=1):\n",
      "STOP: TOTAL NO. of ITERATIONS REACHED LIMIT.\n",
      "\n",
      "Increase the number of iterations (max_iter) or scale the data as shown in:\n",
      "    https://scikit-learn.org/stable/modules/preprocessing.html\n",
      "Please also refer to the documentation for alternative solver options:\n",
      "    https://scikit-learn.org/stable/modules/linear_model.html#logistic-regression\n",
      "  n_iter_i = _check_optimize_result(\n",
      "C:\\Anaconda\\lib\\site-packages\\sklearn\\linear_model\\_logistic.py:763: ConvergenceWarning: lbfgs failed to converge (status=1):\n",
      "STOP: TOTAL NO. of ITERATIONS REACHED LIMIT.\n",
      "\n",
      "Increase the number of iterations (max_iter) or scale the data as shown in:\n",
      "    https://scikit-learn.org/stable/modules/preprocessing.html\n",
      "Please also refer to the documentation for alternative solver options:\n",
      "    https://scikit-learn.org/stable/modules/linear_model.html#logistic-regression\n",
      "  n_iter_i = _check_optimize_result(\n",
      "C:\\Anaconda\\lib\\site-packages\\sklearn\\linear_model\\_logistic.py:763: ConvergenceWarning: lbfgs failed to converge (status=1):\n",
      "STOP: TOTAL NO. of ITERATIONS REACHED LIMIT.\n",
      "\n",
      "Increase the number of iterations (max_iter) or scale the data as shown in:\n",
      "    https://scikit-learn.org/stable/modules/preprocessing.html\n",
      "Please also refer to the documentation for alternative solver options:\n",
      "    https://scikit-learn.org/stable/modules/linear_model.html#logistic-regression\n",
      "  n_iter_i = _check_optimize_result(\n",
      "C:\\Anaconda\\lib\\site-packages\\sklearn\\linear_model\\_logistic.py:763: ConvergenceWarning: lbfgs failed to converge (status=1):\n",
      "STOP: TOTAL NO. of ITERATIONS REACHED LIMIT.\n",
      "\n",
      "Increase the number of iterations (max_iter) or scale the data as shown in:\n",
      "    https://scikit-learn.org/stable/modules/preprocessing.html\n",
      "Please also refer to the documentation for alternative solver options:\n",
      "    https://scikit-learn.org/stable/modules/linear_model.html#logistic-regression\n",
      "  n_iter_i = _check_optimize_result(\n",
      "C:\\Anaconda\\lib\\site-packages\\sklearn\\linear_model\\_logistic.py:763: ConvergenceWarning: lbfgs failed to converge (status=1):\n",
      "STOP: TOTAL NO. of ITERATIONS REACHED LIMIT.\n",
      "\n",
      "Increase the number of iterations (max_iter) or scale the data as shown in:\n",
      "    https://scikit-learn.org/stable/modules/preprocessing.html\n",
      "Please also refer to the documentation for alternative solver options:\n",
      "    https://scikit-learn.org/stable/modules/linear_model.html#logistic-regression\n",
      "  n_iter_i = _check_optimize_result(\n",
      "C:\\Anaconda\\lib\\site-packages\\sklearn\\linear_model\\_logistic.py:763: ConvergenceWarning: lbfgs failed to converge (status=1):\n",
      "STOP: TOTAL NO. of ITERATIONS REACHED LIMIT.\n",
      "\n",
      "Increase the number of iterations (max_iter) or scale the data as shown in:\n",
      "    https://scikit-learn.org/stable/modules/preprocessing.html\n",
      "Please also refer to the documentation for alternative solver options:\n",
      "    https://scikit-learn.org/stable/modules/linear_model.html#logistic-regression\n",
      "  n_iter_i = _check_optimize_result(\n"
     ]
    },
    {
     "name": "stdout",
     "output_type": "stream",
     "text": [
      "[0.6036212  0.60490221 0.59849716 0.60276198 0.60209023 0.60046554\n",
      " 0.60112166 0.59821596 0.60352746 0.59998125]\n",
      "F1 Fold Scores\n"
     ]
    },
    {
     "name": "stderr",
     "output_type": "stream",
     "text": [
      "C:\\Anaconda\\lib\\site-packages\\sklearn\\linear_model\\_logistic.py:763: ConvergenceWarning: lbfgs failed to converge (status=1):\n",
      "STOP: TOTAL NO. of ITERATIONS REACHED LIMIT.\n",
      "\n",
      "Increase the number of iterations (max_iter) or scale the data as shown in:\n",
      "    https://scikit-learn.org/stable/modules/preprocessing.html\n",
      "Please also refer to the documentation for alternative solver options:\n",
      "    https://scikit-learn.org/stable/modules/linear_model.html#logistic-regression\n",
      "  n_iter_i = _check_optimize_result(\n",
      "C:\\Anaconda\\lib\\site-packages\\sklearn\\linear_model\\_logistic.py:763: ConvergenceWarning: lbfgs failed to converge (status=1):\n",
      "STOP: TOTAL NO. of ITERATIONS REACHED LIMIT.\n",
      "\n",
      "Increase the number of iterations (max_iter) or scale the data as shown in:\n",
      "    https://scikit-learn.org/stable/modules/preprocessing.html\n",
      "Please also refer to the documentation for alternative solver options:\n",
      "    https://scikit-learn.org/stable/modules/linear_model.html#logistic-regression\n",
      "  n_iter_i = _check_optimize_result(\n",
      "C:\\Anaconda\\lib\\site-packages\\sklearn\\linear_model\\_logistic.py:763: ConvergenceWarning: lbfgs failed to converge (status=1):\n",
      "STOP: TOTAL NO. of ITERATIONS REACHED LIMIT.\n",
      "\n",
      "Increase the number of iterations (max_iter) or scale the data as shown in:\n",
      "    https://scikit-learn.org/stable/modules/preprocessing.html\n",
      "Please also refer to the documentation for alternative solver options:\n",
      "    https://scikit-learn.org/stable/modules/linear_model.html#logistic-regression\n",
      "  n_iter_i = _check_optimize_result(\n",
      "C:\\Anaconda\\lib\\site-packages\\sklearn\\linear_model\\_logistic.py:763: ConvergenceWarning: lbfgs failed to converge (status=1):\n",
      "STOP: TOTAL NO. of ITERATIONS REACHED LIMIT.\n",
      "\n",
      "Increase the number of iterations (max_iter) or scale the data as shown in:\n",
      "    https://scikit-learn.org/stable/modules/preprocessing.html\n",
      "Please also refer to the documentation for alternative solver options:\n",
      "    https://scikit-learn.org/stable/modules/linear_model.html#logistic-regression\n",
      "  n_iter_i = _check_optimize_result(\n",
      "C:\\Anaconda\\lib\\site-packages\\sklearn\\linear_model\\_logistic.py:763: ConvergenceWarning: lbfgs failed to converge (status=1):\n",
      "STOP: TOTAL NO. of ITERATIONS REACHED LIMIT.\n",
      "\n",
      "Increase the number of iterations (max_iter) or scale the data as shown in:\n",
      "    https://scikit-learn.org/stable/modules/preprocessing.html\n",
      "Please also refer to the documentation for alternative solver options:\n",
      "    https://scikit-learn.org/stable/modules/linear_model.html#logistic-regression\n",
      "  n_iter_i = _check_optimize_result(\n",
      "C:\\Anaconda\\lib\\site-packages\\sklearn\\linear_model\\_logistic.py:763: ConvergenceWarning: lbfgs failed to converge (status=1):\n",
      "STOP: TOTAL NO. of ITERATIONS REACHED LIMIT.\n",
      "\n",
      "Increase the number of iterations (max_iter) or scale the data as shown in:\n",
      "    https://scikit-learn.org/stable/modules/preprocessing.html\n",
      "Please also refer to the documentation for alternative solver options:\n",
      "    https://scikit-learn.org/stable/modules/linear_model.html#logistic-regression\n",
      "  n_iter_i = _check_optimize_result(\n",
      "C:\\Anaconda\\lib\\site-packages\\sklearn\\linear_model\\_logistic.py:763: ConvergenceWarning: lbfgs failed to converge (status=1):\n",
      "STOP: TOTAL NO. of ITERATIONS REACHED LIMIT.\n",
      "\n",
      "Increase the number of iterations (max_iter) or scale the data as shown in:\n",
      "    https://scikit-learn.org/stable/modules/preprocessing.html\n",
      "Please also refer to the documentation for alternative solver options:\n",
      "    https://scikit-learn.org/stable/modules/linear_model.html#logistic-regression\n",
      "  n_iter_i = _check_optimize_result(\n",
      "C:\\Anaconda\\lib\\site-packages\\sklearn\\linear_model\\_logistic.py:763: ConvergenceWarning: lbfgs failed to converge (status=1):\n",
      "STOP: TOTAL NO. of ITERATIONS REACHED LIMIT.\n",
      "\n",
      "Increase the number of iterations (max_iter) or scale the data as shown in:\n",
      "    https://scikit-learn.org/stable/modules/preprocessing.html\n",
      "Please also refer to the documentation for alternative solver options:\n",
      "    https://scikit-learn.org/stable/modules/linear_model.html#logistic-regression\n",
      "  n_iter_i = _check_optimize_result(\n",
      "C:\\Anaconda\\lib\\site-packages\\sklearn\\linear_model\\_logistic.py:763: ConvergenceWarning: lbfgs failed to converge (status=1):\n",
      "STOP: TOTAL NO. of ITERATIONS REACHED LIMIT.\n",
      "\n",
      "Increase the number of iterations (max_iter) or scale the data as shown in:\n",
      "    https://scikit-learn.org/stable/modules/preprocessing.html\n",
      "Please also refer to the documentation for alternative solver options:\n",
      "    https://scikit-learn.org/stable/modules/linear_model.html#logistic-regression\n",
      "  n_iter_i = _check_optimize_result(\n"
     ]
    },
    {
     "name": "stdout",
     "output_type": "stream",
     "text": [
      "[0.59158167 0.59353681 0.58658291 0.5905932  0.5904414  0.58843521\n",
      " 0.58976102 0.58654405 0.59191178 0.58836721]\n"
     ]
    },
    {
     "name": "stderr",
     "output_type": "stream",
     "text": [
      "C:\\Anaconda\\lib\\site-packages\\sklearn\\linear_model\\_logistic.py:763: ConvergenceWarning: lbfgs failed to converge (status=1):\n",
      "STOP: TOTAL NO. of ITERATIONS REACHED LIMIT.\n",
      "\n",
      "Increase the number of iterations (max_iter) or scale the data as shown in:\n",
      "    https://scikit-learn.org/stable/modules/preprocessing.html\n",
      "Please also refer to the documentation for alternative solver options:\n",
      "    https://scikit-learn.org/stable/modules/linear_model.html#logistic-regression\n",
      "  n_iter_i = _check_optimize_result(\n"
     ]
    },
    {
     "data": {
      "text/plain": [
       "{'Accuracy': 0.6015184652877585,\n",
       " 'Precision': 0.5960459425340348,\n",
       " 'Recall': 0.6015184652877585,\n",
       " 'F1': 0.5897755267025533}"
      ]
     },
     "execution_count": 92,
     "metadata": {},
     "output_type": "execute_result"
    }
   ],
   "source": [
    "#Test with Multinomial Classification\n",
    "cv = ShuffleSplit(n_splits=10, test_size=0.2, random_state=0)\n",
    "\n",
    "model_evaluation_kfold_lgregm = {}\n",
    "accuracy_scores = cross_val_score(lgregm, x, y, cv=cv, scoring = 'accuracy')\n",
    "print('Accuracy Fold Scores')\n",
    "print(accuracy_scores)\n",
    "model_evaluation_kfold_lgregm.update({'Accuracy': accuracy_scores.mean()})\n",
    "\n",
    "print('Precision Fold Scores')\n",
    "precision_scores = cross_val_score(lgregm, x, y, cv=cv, scoring = 'precision_weighted') \n",
    "print(precision_scores)\n",
    "model_evaluation_kfold_lgregm.update({'Precision': precision_scores.mean()})\n",
    "\n",
    "print('Recall Fold Scores')\n",
    "recall_scores = cross_val_score(lgregm, x, y, cv=cv, scoring = 'recall_weighted') \n",
    "print(recall_scores)\n",
    "model_evaluation_kfold_lgregm.update({'Recall': recall_scores.mean()})\n",
    "\n",
    "print('F1 Fold Scores')\n",
    "f1_scores = cross_val_score(lgregm, x, y, cv=cv, scoring = 'f1_weighted')\n",
    "print(f1_scores)\n",
    "model_evaluation_kfold_lgregm.update({'F1': f1_scores.mean()})\n",
    "\n",
    "model_evaluation_kfold_lgregm"
   ]
  },
  {
   "cell_type": "code",
   "execution_count": 93,
   "metadata": {},
   "outputs": [
    {
     "name": "stdout",
     "output_type": "stream",
     "text": [
      "Logistic Regression Classification Report\n",
      "              precision    recall  f1-score   support\n",
      "\n",
      "           0       0.72      0.61      0.66       985\n",
      "           1       0.68      0.70      0.69     10845\n",
      "           2       0.35      0.05      0.08      1036\n",
      "           3       0.57      0.77      0.66     22122\n",
      "           4       0.67      0.45      0.54      1575\n",
      "           5       0.51      0.30      0.38      8094\n",
      "           6       0.72      0.51      0.59      1532\n",
      "           7       0.48      0.23      0.31      1512\n",
      "           8       0.63      0.48      0.55      3888\n",
      "           9       0.62      0.58      0.60     12423\n",
      "\n",
      "    accuracy                           0.60     64012\n",
      "   macro avg       0.59      0.47      0.51     64012\n",
      "weighted avg       0.60      0.60      0.59     64012\n",
      "\n"
     ]
    },
    {
     "ename": "NameError",
     "evalue": "name 'model_evaluation' is not defined",
     "output_type": "error",
     "traceback": [
      "\u001b[1;31m---------------------------------------------------------------------------\u001b[0m",
      "\u001b[1;31mNameError\u001b[0m                                 Traceback (most recent call last)",
      "\u001b[1;32mC:\\Users\\ADHIRA~1\\AppData\\Local\\Temp/ipykernel_16860/3643101779.py\u001b[0m in \u001b[0;36m<module>\u001b[1;34m\u001b[0m\n\u001b[0;32m     18\u001b[0m \u001b[1;33m\u001b[0m\u001b[0m\n\u001b[0;32m     19\u001b[0m \u001b[1;31m#Add values for model comparison\u001b[0m\u001b[1;33m\u001b[0m\u001b[1;33m\u001b[0m\u001b[0m\n\u001b[1;32m---> 20\u001b[1;33m \u001b[0mmodel_evaluation\u001b[0m\u001b[1;33m.\u001b[0m\u001b[0mupdate\u001b[0m\u001b[1;33m(\u001b[0m\u001b[1;33m{\u001b[0m\u001b[1;34m'Logistic Regression'\u001b[0m \u001b[1;33m:\u001b[0m \u001b[1;33m[\u001b[0m\u001b[0maccuracy_score\u001b[0m\u001b[1;33m(\u001b[0m\u001b[0mlabels_train\u001b[0m\u001b[1;33m,\u001b[0m \u001b[0mlgreg\u001b[0m\u001b[1;33m.\u001b[0m\u001b[0mpredict\u001b[0m\u001b[1;33m(\u001b[0m\u001b[0mfeatures_train\u001b[0m\u001b[1;33m)\u001b[0m\u001b[1;33m)\u001b[0m\u001b[1;33m,\u001b[0m\u001b[0maccuracy_score\u001b[0m\u001b[1;33m(\u001b[0m\u001b[0mlabels_test\u001b[0m\u001b[1;33m,\u001b[0m \u001b[0mlgreg_predictions\u001b[0m\u001b[1;33m)\u001b[0m\u001b[1;33m]\u001b[0m\u001b[1;33m}\u001b[0m\u001b[1;33m)\u001b[0m\u001b[1;33m\u001b[0m\u001b[1;33m\u001b[0m\u001b[0m\n\u001b[0m",
      "\u001b[1;31mNameError\u001b[0m: name 'model_evaluation' is not defined"
     ]
    },
    {
     "data": {
      "image/png": "[encoded data removed]",
      "text/plain": [
       "<Figure size 640x480 with 2 Axes>"
      ]
     },
     "metadata": {},
     "output_type": "display_data"
    }
   ],
   "source": [
    "#One vs Rest classification is selected due to slightly higher evaluation metrics and lower runtime. Again the model is run on a sample 80:20 train test split\n",
    "#to produce a confusion matrix.\n",
    "lgreg = LogisticRegression(multi_class='ovr', max_iter = 300)\n",
    "lgreg_model = lgreg.fit(features_train, labels_train)\n",
    "lgreg_predictions = lgreg_model.predict(features_test)\n",
    "\n",
    "#Print model evaluation report\n",
    "print (\"Logistic Regression Classification Report\")\n",
    "print(classification_report(labels_test, lgreg_predictions))\n",
    "\n",
    "#Confusion Matrix\n",
    "figure(figsize=(8, 6), dpi=80)\n",
    "cfmatrix = confusion_matrix(labels_test, lgreg_predictions)\n",
    "sns.heatmap(cfmatrix, annot=True, xticklabels=['alcoholism','anxiety','bipolarreddit','depression','healthanxiety','mentalhealth','ptsd','schizophrenia','socialanxiety','suicidewatch'], yticklabels=['alcoholism','anxiety','bipolarreddit','depression','healthanxiety','mentalhealth','ptsd','schizophrenia','socialanxiety','suicidewatch'])\n",
    "plt.ylabel('Actual')\n",
    "plt.xlabel('Predicted')\n",
    "plt.title('Logistic Regression Confusion Matrix')\n",
    "\n",
    "#Add values for model comparison\n",
    "model_evaluation.update({'Logistic Regression' : [accuracy_score(labels_train, lgreg.predict(features_train)),accuracy_score(labels_test, lgreg_predictions)]})"
   ]
  },
  {
   "cell_type": "code",
   "execution_count": null,
   "metadata": {},
   "outputs": [],
   "source": [
    "#MODEL COMPARISON"
   ]
  },
  {
   "cell_type": "code",
   "execution_count": 153,
   "metadata": {},
   "outputs": [],
   "source": [
    "# #View model performance on both training and test data from 1-fold sample run to test for overfitting\n",
    "# model_fit = pd.DataFrame.from_dict(model_evaluation.items())\n",
    "# model_fit = model_fit.rename(columns={0:'Model', 1:'Testing_Accuracy'})\n",
    "# model_fit[['Training Accuracy','Testing Accuracy']] = pd.DataFrame(model_fit.Testing_Accuracy.tolist(), index = model_fit.index)\n",
    "\n",
    "# model_fit = model_fit[['Model','Training Accuracy','Testing Accuracy']]\n",
    "\n",
    "# model_fit"
   ]
  },
  {
   "cell_type": "code",
   "execution_count": 154,
   "metadata": {},
   "outputs": [],
   "source": [
    "# #View model performance on both training and test data from 1-fold sample run to test for overfitting\n",
    "# model_fit = pd.DataFrame.from_dict(model_evaluation.items())\n",
    "# model_fit = model_fit.rename(columns={0:'Model', 1:'Testing_Accuracy'})\n",
    "# model_fit[['Training Accuracy','Testing Accuracy']] = pd.DataFrame(model_fit.Testing_Accuracy.tolist(), index = model_fit.index)\n",
    "\n",
    "# model_fit = model_fit[['Model','Training Accuracy','Testing Accuracy']]\n",
    "\n",
    "# model_fit"
   ]
  },
  {
   "cell_type": "code",
   "execution_count": 155,
   "metadata": {},
   "outputs": [],
   "source": [
    "# #Compare performance metrics from K-fold cross validation across all models\n",
    "# #mnb_kfold = pd.DataFrame.from_dict(model_evaluation_kfold_mnb.items()).transpose()\n",
    "# lgreg_kfold = pd.DataFrame.from_dict(model_evaluation_kfold_lgreg.items()).transpose()\n",
    "# #knn_kfold = pd.DataFrame.from_dict(model_evaluation_kfold_knn.items()).transpose()\n",
    "\n",
    "# #model_eval = mnb_kfold.iloc[[1]].append(lgreg_kfold.iloc[[1]])\n",
    "\n",
    "# model_eval.index = ['Logistic Regression']\n",
    "# model_eval.columns = ['Accuracy','Precision','Recall','F1 Score']\n",
    "\n",
    "# model_eval"
   ]
  },
  {
   "cell_type": "code",
   "execution_count": null,
   "metadata": {},
   "outputs": [],
   "source": [
    "#Determining the Most Important Features for Classification in our Selected Model"
   ]
  },
  {
   "cell_type": "code",
   "execution_count": 95,
   "metadata": {},
   "outputs": [
    {
     "name": "stdout",
     "output_type": "stream",
     "text": [
      "Depression - Top Features\n",
      "               \n",
      "('depression', 11.139608668146122)\n",
      "('depress', 5.85296381068991)\n",
      "('bed', 2.734622213389854)\n",
      "('motivation', 2.251287507413967)\n",
      "('feel', 2.1311681212956066)\n",
      "('happy', 2.0429452783718545)\n",
      "('sad', 2.0267673550962173)\n",
      "('cry', 1.8828087598965988)\n",
      "('lonely', 1.5742705002466546)\n",
      "('energy', 1.4052455898235616)\n",
      "('shit', 1.2889986571340877)\n",
      "('alone', 1.2043301215609685)\n",
      "('suck', 1.1222743001200293)\n",
      "('inside', 1.1124397812758169)\n",
      "('vent', 1.1117156289384889)\n",
      "('friends', 1.103783317954521)\n",
      "('life', 1.0715906207558266)\n",
      "('wish', 1.0491817861390274)\n",
      "('low', 1.0222045213310638)\n",
      "('anything', 0.9721290325997077)\n",
      "('hate', 0.9514215851274317)\n",
      "('game', 0.9504408743958441)\n",
      "('lose', 0.9334741423952175)\n",
      "('better', 0.916443521105484)\n",
      "('study', 0.8338311174706036)\n",
      "               \n",
      "---------------\n",
      "Anxiety - Top Features\n",
      "               \n",
      "('anxiety', 14.72837702509731)\n",
      "('anxious', 6.449353950572454)\n",
      "('panic', 4.642972281942665)\n",
      "('mental health', 4.109507562774888)\n",
      "('worry', 2.5937481042671813)\n",
      "('fear', 2.5475709603408294)\n",
      "('calm', 2.393325850041533)\n",
      "('attack', 2.286833062623757)\n",
      "('stress', 2.0610805603235733)\n",
      "('terrify', 2.0085438623224854)\n",
      "('chest', 1.9605020462958476)\n",
      "('drive', 1.658022922922904)\n",
      "('scar', 1.5914353209580685)\n",
      "('afraid', 1.4305874992190004)\n",
      "('anyone else', 1.4205628228110188)\n",
      "('even though', 1.3808895859462103)\n",
      "('sick', 1.3195384312598595)\n",
      "('constant', 1.1811110403255547)\n",
      "('job', 1.173690640512704)\n",
      "('medication', 1.1164479371281735)\n",
      "('work', 1.1064249992429966)\n",
      "('tomorrow', 1.0532827891780354)\n",
      "('big', 1.045804639906662)\n",
      "('phone', 1.035263064401624)\n",
      "('effect', 1.0256373994395802)\n",
      "               \n",
      "---------------\n",
      "Bipolar - Top Features\n",
      "               \n",
      "('diagnose', 4.5214551240303065)\n",
      "('meds', 4.44707072794431)\n",
      "('disorder', 3.942274748442656)\n",
      "('psychiatrist', 2.8071740375180436)\n",
      "('state', 2.621041348020293)\n",
      "('control', 2.418025295258583)\n",
      "('sleep', 2.341811725021438)\n",
      "('crazy', 2.3397244491787386)\n",
      "('low', 2.3212914511360503)\n",
      "('energy', 2.198977748606281)\n",
      "('experience', 2.1847991891586083)\n",
      "('take', 2.165461336016024)\n",
      "('hospital', 2.0097412684489)\n",
      "('high', 1.9636678151963298)\n",
      "('manage', 1.8690755040923142)\n",
      "('trigger', 1.8350825010244998)\n",
      "('drop', 1.8234357879260703)\n",
      "('spend', 1.7808724346356766)\n",
      "('currently', 1.7358367174442557)\n",
      "('also', 1.7318968139767599)\n",
      "('two', 1.7131257548231096)\n",
      "('month', 1.6441809262640494)\n",
      "('medication', 1.5844757237536817)\n",
      "('change', 1.574734409554491)\n",
      "('great', 1.5572114158630443)\n",
      "               \n",
      "---------------\n",
      "Schizophrenia - Top Features\n",
      "               \n",
      "('voice', 6.122602116076801)\n",
      "('symptoms', 5.136090270893079)\n",
      "('diagnose', 5.06463863180149)\n",
      "('believe', 3.665706988299723)\n",
      "('meds', 3.564430257177022)\n",
      "('hear', 3.5008587895962524)\n",
      "('real', 3.2533358812535087)\n",
      "('hospital', 2.734512735000343)\n",
      "('medication', 2.406663429168082)\n",
      "('watch', 2.3093051980443438)\n",
      "('god', 2.293826387459032)\n",
      "('drug', 2.2487148505864853)\n",
      "('see', 2.0622111894176594)\n",
      "('hes', 2.0396907866775402)\n",
      "('house', 2.0259134842381252)\n",
      "('tell', 1.8570413356882516)\n",
      "('understand', 1.8510666484534781)\n",
      "('question', 1.8288598641152054)\n",
      "('think', 1.8096236494104432)\n",
      "('eye', 1.7023580151344915)\n",
      "('saw', 1.6948259038592381)\n",
      "('mind', 1.6092860202374464)\n",
      "('sense', 1.5794423793812071)\n",
      "('outside', 1.5437146504088273)\n",
      "('brother', 1.5328536009739684)\n",
      "               \n",
      "---------------\n",
      "Alcoholism - Top Features\n",
      "               \n",
      "('drink', 13.555557837605182)\n",
      "('quit', 5.638568107867938)\n",
      "('problem', 4.472015190650246)\n",
      "('days', 4.271730597727842)\n",
      "('meet', 4.197134383088917)\n",
      "('years', 3.795463208607109)\n",
      "('stop', 3.6109495102577913)\n",
      "('hes', 3.12263901237098)\n",
      "('day', 3.0782637433953486)\n",
      "('months', 2.546111738273064)\n",
      "('thank', 2.4660869964795387)\n",
      "('week', 2.3711053905723287)\n",
      "('support', 2.34425215690854)\n",
      "('know', 2.2863792555184697)\n",
      "('father', 2.2502789660059883)\n",
      "('night', 2.2107878063644315)\n",
      "('advice', 2.204821069446106)\n",
      "('without', 2.194792916103502)\n",
      "('control', 2.185544838867715)\n",
      "('question', 2.1316543631442477)\n",
      "('need', 2.058403826383465)\n",
      "('abuse', 2.0324413757006248)\n",
      "('dad', 1.9746392787419187)\n",
      "('group', 1.9236722461853168)\n",
      "('almost', 1.907979923148682)\n",
      "               \n",
      "---------------\n",
      "Health Anxiety - Top Features\n",
      "               \n",
      "('health', 9.850665007738208)\n",
      "('worry', 4.997121180074684)\n",
      "('doctor', 4.126282362234242)\n",
      "('test', 3.713232347176845)\n",
      "('pain', 3.644133628083716)\n",
      "('side', 3.457102516970127)\n",
      "('heart', 3.268899535878668)\n",
      "('fear', 3.201106545277705)\n",
      "('scar', 3.1619333720765272)\n",
      "('symptoms', 2.953438729792175)\n",
      "('check', 2.8336594430529147)\n",
      "('terrify', 2.790091137303152)\n",
      "('notice', 2.6587106467671493)\n",
      "('bite', 2.541780920636753)\n",
      "('read', 2.5138050330832744)\n",
      "('ago', 2.5091067120541095)\n",
      "('small', 2.4530348750447284)\n",
      "('normal', 2.3345381031058974)\n",
      "('eat', 2.2640040898356175)\n",
      "('could', 2.229299337449612)\n",
      "('eye', 2.227439032360383)\n",
      "('brain', 2.1469027083037675)\n",
      "('course', 2.0892602048980646)\n",
      "('also', 2.0094129690754965)\n",
      "('weird', 2.0052643188960957)\n",
      "               \n",
      "---------------\n",
      "Mental Health - Top Features\n",
      "               \n",
      "('mental', 5.6136840013285685)\n",
      "('mental health', 4.454362536547211)\n",
      "('disorder', 3.3567966294924934)\n",
      "('wrong', 2.425864536191346)\n",
      "('therapist', 2.3933809142830107)\n",
      "('angry', 2.2017579594172902)\n",
      "('issue', 2.0742942969176577)\n",
      "('psychiatrist', 2.0632184440589265)\n",
      "('emotions', 2.032315993777759)\n",
      "('normal', 1.9056332175404993)\n",
      "('self', 1.8163225476380513)\n",
      "('advice', 1.7935364075030011)\n",
      "('therapy', 1.7043903054301381)\n",
      "('whats', 1.4862543143885036)\n",
      "('crazy', 1.481140200655444)\n",
      "('extremely', 1.433269854493159)\n",
      "('help', 1.4240579661899244)\n",
      "('struggle', 1.4029839896006817)\n",
      "('diagnose', 1.3453407728398135)\n",
      "('dont know', 1.3413319697839206)\n",
      "('control', 1.3391684503946084)\n",
      "('stress', 1.279165497998071)\n",
      "('need help', 1.2669099740824945)\n",
      "('remember', 1.2386739284556363)\n",
      "('things', 1.2232697652890292)\n",
      "               \n",
      "---------------\n",
      "PTSD - Top Features\n",
      "               \n",
      "('ptsd', 17.377306429843774)\n",
      "('trigger', 7.4527671688925174)\n",
      "('abuse', 6.4166476485255055)\n",
      "('therapy', 3.8753839473813763)\n",
      "('happen', 3.7718973482940843)\n",
      "('remember', 3.424938898351793)\n",
      "('therapist', 3.1754105790966385)\n",
      "('angry', 2.604813748479072)\n",
      "('dream', 2.4717871954019333)\n",
      "('night', 2.3499718598624946)\n",
      "('relate', 2.3003874737851198)\n",
      "('experience', 2.173270136494863)\n",
      "('trust', 2.1646432160641633)\n",
      "('terrify', 2.01540419952153)\n",
      "('car', 1.9998819545927533)\n",
      "('support', 1.9479444491841633)\n",
      "('deal', 1.9130590000823346)\n",
      "('years', 1.9050040274536657)\n",
      "('back', 1.9044334260798832)\n",
      "('story', 1.8976148116841711)\n",
      "('panic', 1.8901949054717966)\n",
      "('bring', 1.7656898889638015)\n",
      "('vent', 1.7618425263645723)\n",
      "('man', 1.7278129482138007)\n",
      "('saw', 1.7046924966931742)\n",
      "               \n",
      "---------------\n",
      "Social Anxiety - Top Features\n",
      "               \n",
      "('social anxiety', 8.440289297787825)\n",
      "('social', 6.16818749495486)\n",
      "('people', 3.9644609245338724)\n",
      "('say', 2.642670630241531)\n",
      "('class', 2.5932346991921094)\n",
      "('group', 2.583622413199719)\n",
      "('speak', 2.519907502230478)\n",
      "('walk', 2.366962693375688)\n",
      "('talk', 2.31280420493932)\n",
      "('girl', 2.180038657098696)\n",
      "('ask', 2.1090332971327634)\n",
      "('avoid', 2.0823563901879787)\n",
      "('eye', 1.8964090911036382)\n",
      "('guy', 1.831561741597259)\n",
      "('make', 1.829551736923749)\n",
      "('whole', 1.781091861404467)\n",
      "('high school', 1.7557009868239932)\n",
      "('go', 1.7504868637028252)\n",
      "('weird', 1.7140338272544653)\n",
      "('anxious', 1.70755121038294)\n",
      "('job', 1.6922155459250814)\n",
      "('friends', 1.6920903276455939)\n",
      "('force', 1.6853615744216897)\n",
      "('meet', 1.6669474720169426)\n",
      "('afraid', 1.623727531978928)\n",
      "               \n",
      "---------------\n",
      "Suicide - Top Features\n",
      "               \n",
      "('social anxiety', 8.440289297787825)\n",
      "('social', 6.16818749495486)\n",
      "('people', 3.9644609245338724)\n",
      "('say', 2.642670630241531)\n",
      "('class', 2.5932346991921094)\n",
      "('group', 2.583622413199719)\n",
      "('speak', 2.519907502230478)\n",
      "('walk', 2.366962693375688)\n",
      "('talk', 2.31280420493932)\n",
      "('girl', 2.180038657098696)\n",
      "('ask', 2.1090332971327634)\n",
      "('avoid', 2.0823563901879787)\n",
      "('eye', 1.8964090911036382)\n",
      "('guy', 1.831561741597259)\n",
      "('make', 1.829551736923749)\n",
      "('whole', 1.781091861404467)\n",
      "('high school', 1.7557009868239932)\n",
      "('go', 1.7504868637028252)\n",
      "('weird', 1.7140338272544653)\n",
      "('anxious', 1.70755121038294)\n",
      "('job', 1.6922155459250814)\n",
      "('friends', 1.6920903276455939)\n",
      "('force', 1.6853615744216897)\n",
      "('meet', 1.6669474720169426)\n",
      "('afraid', 1.623727531978928)\n",
      "               \n",
      "---------------\n"
     ]
    }
   ],
   "source": [
    "#Store dictionary of tf_idf features and their corresponding index in the array. This method returns a dictionary with each feature and it's index in the transformed training set\n",
    "tfidf_values = tfidf.vocabulary_\n",
    "\n",
    "#define function to retrieve a feature based on it's given index\n",
    "def get_feature_from_index(v):\n",
    "    for k, value in tfidf_values.items():\n",
    "        if value == v:\n",
    "            return k\n",
    "\n",
    "#store coefficient values for each feature from logistic regression model for given topic\n",
    "depression_feature_importance = lgreg_model.coef_[3]  # 0 corresponds to Depression topic classification\n",
    "\n",
    "#Iterate over each feature and retrieve both the feature name and its corresponding coefficient to determine importance of each feature in classification for a given topic\n",
    "coefficients = {}\n",
    "for i,v in enumerate(depression_feature_importance):\n",
    "    scores = {get_feature_from_index(i): (depression_feature_importance[i])}\n",
    "    coefficients.update(scores)\n",
    "    \n",
    "top_features_depression = sorted(coefficients.items(), key=lambda x: x[1], reverse=True)\n",
    "\n",
    "print('Depression - Top Features')\n",
    "print('               ')\n",
    "print(*top_features_depression[0:25], sep='\\n')\n",
    "print('               ')\n",
    "print('---------------')\n",
    "\n",
    "#Repeat for each category\n",
    "\n",
    "anxiety_feature_importance = lgreg_model.coef_[1]  # 1 corresponds to Anxiety topic classification\n",
    "\n",
    "coefficients = {}\n",
    "for i,v in enumerate(anxiety_feature_importance):\n",
    "    scores = {get_feature_from_index(i): (anxiety_feature_importance[i])}\n",
    "    coefficients.update(scores)\n",
    "    \n",
    "top_features_anxiety = sorted(coefficients.items(), key=lambda x: x[1], reverse=True)\n",
    "\n",
    "print('Anxiety - Top Features')\n",
    "print('               ')\n",
    "print(*top_features_anxiety[0:25], sep='\\n')\n",
    "print('               ')\n",
    "print('---------------')\n",
    "\n",
    "\n",
    "bipolar_feature_importance = lgreg_model.coef_[2]  # 2 corresponds to Bipolar topic classification\n",
    "\n",
    "coefficients = {}\n",
    "for i,v in enumerate(bipolar_feature_importance):\n",
    "    scores = {get_feature_from_index(i): (bipolar_feature_importance[i])}\n",
    "    coefficients.update(scores)\n",
    "    \n",
    "top_features_bipolar = sorted(coefficients.items(), key=lambda x: x[1], reverse=True)\n",
    "\n",
    "print('Bipolar - Top Features')\n",
    "print('               ')\n",
    "print(*top_features_bipolar[0:25], sep='\\n')\n",
    "print('               ')\n",
    "print('---------------')\n",
    "\n",
    "\n",
    "schizophrenia_feature_importance = lgreg_model.coef_[7]  # 3 corresponds to Schizophrenia topic classification\n",
    "\n",
    "coefficients = {}\n",
    "for i,v in enumerate(schizophrenia_feature_importance):\n",
    "    scores = {get_feature_from_index(i): (schizophrenia_feature_importance[i])}\n",
    "    coefficients.update(scores)\n",
    "    \n",
    "top_features_schizophrenia = sorted(coefficients.items(), key=lambda x: x[1], reverse=True)\n",
    "\n",
    "print('Schizophrenia - Top Features')\n",
    "print('               ')\n",
    "print(*top_features_schizophrenia[0:25], sep='\\n')\n",
    "print('               ')\n",
    "print('---------------')\n",
    "\n",
    "alcoholism_feature_importance = lgreg_model.coef_[0]  # 3 corresponds to Schizophrenia topic classification\n",
    "\n",
    "coefficients = {}\n",
    "for i,v in enumerate(alcoholism_feature_importance):\n",
    "    scores = {get_feature_from_index(i): (alcoholism_feature_importance[i])}\n",
    "    coefficients.update(scores)\n",
    "    \n",
    "top_features_alcoholism = sorted(coefficients.items(), key=lambda x: x[1], reverse=True)\n",
    "\n",
    "print('Alcoholism - Top Features')\n",
    "print('               ')\n",
    "print(*top_features_alcoholism[0:25], sep='\\n')\n",
    "print('               ')\n",
    "print('---------------')\n",
    "\n",
    "\n",
    "healthanxiety_feature_importance = lgreg_model.coef_[4]  # 3 corresponds to Schizophrenia topic classification\n",
    "\n",
    "coefficients = {}\n",
    "for i,v in enumerate(healthanxiety_feature_importance):\n",
    "    scores = {get_feature_from_index(i): (healthanxiety_feature_importance[i])}\n",
    "    coefficients.update(scores)\n",
    "    \n",
    "top_features_healthanxiety = sorted(coefficients.items(), key=lambda x: x[1], reverse=True)\n",
    "\n",
    "print('Health Anxiety - Top Features')\n",
    "print('               ')\n",
    "print(*top_features_healthanxiety[0:25], sep='\\n')\n",
    "print('               ')\n",
    "print('---------------')\n",
    "\n",
    "\n",
    "mentalhealth_feature_importance = lgreg_model.coef_[5]  # 3 corresponds to Schizophrenia topic classification\n",
    "\n",
    "coefficients = {}\n",
    "for i,v in enumerate(mentalhealth_feature_importance):\n",
    "    scores = {get_feature_from_index(i): (mentalhealth_feature_importance[i])}\n",
    "    coefficients.update(scores)\n",
    "    \n",
    "top_features_mentalhealth = sorted(coefficients.items(), key=lambda x: x[1], reverse=True)\n",
    "\n",
    "print('Mental Health - Top Features')\n",
    "print('               ')\n",
    "print(*top_features_mentalhealth[0:25], sep='\\n')\n",
    "print('               ')\n",
    "print('---------------')\n",
    "\n",
    "\n",
    "\n",
    "ptsd_feature_importance = lgreg_model.coef_[6]  # 3 corresponds to Schizophrenia topic classification\n",
    "\n",
    "coefficients = {}\n",
    "for i,v in enumerate(ptsd_feature_importance):\n",
    "    scores = {get_feature_from_index(i): (ptsd_feature_importance[i])}\n",
    "    coefficients.update(scores)\n",
    "    \n",
    "top_features_ptsd = sorted(coefficients.items(), key=lambda x: x[1], reverse=True)\n",
    "\n",
    "print('PTSD - Top Features')\n",
    "print('               ')\n",
    "print(*top_features_ptsd[0:25], sep='\\n')\n",
    "print('               ')\n",
    "print('---------------')\n",
    "\n",
    "\n",
    "\n",
    "socialanxiety_feature_importance = lgreg_model.coef_[8]  # 3 corresponds to Schizophrenia topic classification\n",
    "\n",
    "coefficients = {}\n",
    "for i,v in enumerate(socialanxiety_feature_importance):\n",
    "    scores = {get_feature_from_index(i): (socialanxiety_feature_importance[i])}\n",
    "    coefficients.update(scores)\n",
    "    \n",
    "top_features_socialanxiety = sorted(coefficients.items(), key=lambda x: x[1], reverse=True)\n",
    "\n",
    "print('Social Anxiety - Top Features')\n",
    "print('               ')\n",
    "print(*top_features_socialanxiety[0:25], sep='\\n')\n",
    "print('               ')\n",
    "print('---------------')\n",
    "\n",
    "\n",
    "suicidewatch_feature_importance = lgreg_model.coef_[9]  # 3 corresponds to Schizophrenia topic classification\n",
    "\n",
    "coefficients = {}\n",
    "for i,v in enumerate(suicidewatch_feature_importance):\n",
    "    scores = {get_feature_from_index(i): (suicidewatch_feature_importance[i])}\n",
    "    coefficients.update(scores)\n",
    "    \n",
    "top_features_suicidewatch = sorted(coefficients.items(), key=lambda x: x[1], reverse=True)\n",
    "\n",
    "print('Suicide - Top Features')\n",
    "print('               ')\n",
    "print(*top_features_socialanxiety[0:25], sep='\\n')\n",
    "print('               ')\n",
    "print('---------------')\n",
    "\n",
    "\n",
    "\n",
    "#          9'suicidewatch': 61846})\n",
    "\n",
    "# 0'alcoholism': 5084,\n",
    "# 1         'anxiety': 53797,\n",
    "#  2        'bipolarreddit': 5186,\n",
    "#   3       'depression': 111128,\n",
    "#    4      'healthanxiety': 7849,\n",
    "#     5     'mentalhealth': 40295,\n",
    "#      6    'ptsd': 7553,\n",
    "#       7   'schizophrenia': 7665,\n",
    "#        8  'socialanxiety': 19656,\n",
    "#         9 'suicidewatch': 61846})\n"
   ]
  },
  {
   "cell_type": "code",
   "execution_count": null,
   "metadata": {},
   "outputs": [],
   "source": [
    "#TWITTER ANALYSIS \n"
   ]
  },
  {
   "cell_type": "code",
   "execution_count": null,
   "metadata": {},
   "outputs": [],
   "source": [
    "#Load twitter corpus\n",
    "# twitter_df = pd.read_csv('../input/social-media-mental-health-posts/twitter_corpus2.csv', encoding = 'unicode_escape')\n",
    "# twitter_df = pd.DataFrame(twitter_df)\n",
    "\n",
    "# twitter_df.head()"
   ]
  },
  {
   "cell_type": "code",
   "execution_count": 96,
   "metadata": {},
   "outputs": [],
   "source": [
    "twitter_df = pd.read_excel('C:/AR Files/FBARBP/Data/finaltwitter.xlsx')\n",
    "twitter_df = pd.DataFrame(twitter_df)\n",
    "#reddit_df = reddit_df[reddit_df['subreddit'].notna()]"
   ]
  },
  {
   "cell_type": "code",
   "execution_count": 97,
   "metadata": {},
   "outputs": [
    {
     "data": {
      "text/html": [
       "<div>\n",
       "<style scoped>\n",
       "    .dataframe tbody tr th:only-of-type {\n",
       "        vertical-align: middle;\n",
       "    }\n",
       "\n",
       "    .dataframe tbody tr th {\n",
       "        vertical-align: top;\n",
       "    }\n",
       "\n",
       "    .dataframe thead th {\n",
       "        text-align: right;\n",
       "    }\n",
       "</style>\n",
       "<table border=\"1\" class=\"dataframe\">\n",
       "  <thead>\n",
       "    <tr style=\"text-align: right;\">\n",
       "      <th></th>\n",
       "      <th>id</th>\n",
       "      <th>url</th>\n",
       "      <th>datestamp</th>\n",
       "      <th>content</th>\n",
       "      <th>username</th>\n",
       "      <th>keyword</th>\n",
       "      <th>region</th>\n",
       "      <th>date</th>\n",
       "      <th>time</th>\n",
       "      <th>month</th>\n",
       "      <th>year</th>\n",
       "      <th>dayofweek</th>\n",
       "      <th>weekendyesorno</th>\n",
       "      <th>tweethour</th>\n",
       "    </tr>\n",
       "  </thead>\n",
       "  <tbody>\n",
       "    <tr>\n",
       "      <th>0</th>\n",
       "      <td>0</td>\n",
       "      <td>https://twitter.com/cyberpunk018/status/151446...</td>\n",
       "      <td>2022-04-14 04:29:45+00:00</td>\n",
       "      <td>There's a reason you don't fuck with a drug lo...</td>\n",
       "      <td>cyberpunk018</td>\n",
       "      <td>Drugs</td>\n",
       "      <td>Jacksonville</td>\n",
       "      <td>2022-04-14</td>\n",
       "      <td>04:29:45</td>\n",
       "      <td>Apr</td>\n",
       "      <td>2022</td>\n",
       "      <td>Thursday</td>\n",
       "      <td>Weekday</td>\n",
       "      <td>4</td>\n",
       "    </tr>\n",
       "    <tr>\n",
       "      <th>1</th>\n",
       "      <td>1</td>\n",
       "      <td>https://twitter.com/DemandHacker/status/151444...</td>\n",
       "      <td>2022-04-14 03:46:19+00:00</td>\n",
       "      <td>@pmarca Wonder why they have a drug problemâ€¦</td>\n",
       "      <td>DemandHacker</td>\n",
       "      <td>Drugs</td>\n",
       "      <td>Jacksonville</td>\n",
       "      <td>2022-04-14</td>\n",
       "      <td>03:46:19</td>\n",
       "      <td>Apr</td>\n",
       "      <td>2022</td>\n",
       "      <td>Thursday</td>\n",
       "      <td>Weekday</td>\n",
       "      <td>3</td>\n",
       "    </tr>\n",
       "    <tr>\n",
       "      <th>2</th>\n",
       "      <td>2</td>\n",
       "      <td>https://twitter.com/geisha_doll/status/1514444...</td>\n",
       "      <td>2022-04-14 03:25:33+00:00</td>\n",
       "      <td>@alpha_2987 @DownAtTheFarmUK @HarmonMcCraw @Th...</td>\n",
       "      <td>geisha_doll</td>\n",
       "      <td>Drugs</td>\n",
       "      <td>Jacksonville</td>\n",
       "      <td>2022-04-14</td>\n",
       "      <td>03:25:33</td>\n",
       "      <td>Apr</td>\n",
       "      <td>2022</td>\n",
       "      <td>Thursday</td>\n",
       "      <td>Weekday</td>\n",
       "      <td>3</td>\n",
       "    </tr>\n",
       "    <tr>\n",
       "      <th>3</th>\n",
       "      <td>3</td>\n",
       "      <td>https://twitter.com/aziahzzachare/status/15144...</td>\n",
       "      <td>2022-04-14 02:51:22+00:00</td>\n",
       "      <td>I like music that make me feel like a drug sla...</td>\n",
       "      <td>aziahzzachare</td>\n",
       "      <td>Drugs</td>\n",
       "      <td>Jacksonville</td>\n",
       "      <td>2022-04-14</td>\n",
       "      <td>02:51:22</td>\n",
       "      <td>Apr</td>\n",
       "      <td>2022</td>\n",
       "      <td>Thursday</td>\n",
       "      <td>Weekday</td>\n",
       "      <td>2</td>\n",
       "    </tr>\n",
       "    <tr>\n",
       "      <th>4</th>\n",
       "      <td>4</td>\n",
       "      <td>https://twitter.com/wvfilmmaker/status/1514434...</td>\n",
       "      <td>2022-04-14 02:44:10+00:00</td>\n",
       "      <td>@CitizenAndy @scottEmovienerd â€¦ I normally h...</td>\n",
       "      <td>wvfilmmaker</td>\n",
       "      <td>Drugs</td>\n",
       "      <td>Jacksonville</td>\n",
       "      <td>2022-04-14</td>\n",
       "      <td>02:44:10</td>\n",
       "      <td>Apr</td>\n",
       "      <td>2022</td>\n",
       "      <td>Thursday</td>\n",
       "      <td>Weekday</td>\n",
       "      <td>2</td>\n",
       "    </tr>\n",
       "  </tbody>\n",
       "</table>\n",
       "</div>"
      ],
      "text/plain": [
       "   id                                                url  \\\n",
       "0   0  https://twitter.com/cyberpunk018/status/151446...   \n",
       "1   1  https://twitter.com/DemandHacker/status/151444...   \n",
       "2   2  https://twitter.com/geisha_doll/status/1514444...   \n",
       "3   3  https://twitter.com/aziahzzachare/status/15144...   \n",
       "4   4  https://twitter.com/wvfilmmaker/status/1514434...   \n",
       "\n",
       "                   datestamp  \\\n",
       "0  2022-04-14 04:29:45+00:00   \n",
       "1  2022-04-14 03:46:19+00:00   \n",
       "2  2022-04-14 03:25:33+00:00   \n",
       "3  2022-04-14 02:51:22+00:00   \n",
       "4  2022-04-14 02:44:10+00:00   \n",
       "\n",
       "                                             content       username keyword  \\\n",
       "0  There's a reason you don't fuck with a drug lo...   cyberpunk018   Drugs   \n",
       "1     @pmarca Wonder why they have a drug problemâ€¦   DemandHacker   Drugs   \n",
       "2  @alpha_2987 @DownAtTheFarmUK @HarmonMcCraw @Th...    geisha_doll   Drugs   \n",
       "3  I like music that make me feel like a drug sla...  aziahzzachare   Drugs   \n",
       "4  @CitizenAndy @scottEmovienerd â€¦ I normally h...    wvfilmmaker   Drugs   \n",
       "\n",
       "         region       date      time month  year dayofweek weekendyesorno  \\\n",
       "0  Jacksonville 2022-04-14  04:29:45   Apr  2022  Thursday        Weekday   \n",
       "1  Jacksonville 2022-04-14  03:46:19   Apr  2022  Thursday        Weekday   \n",
       "2  Jacksonville 2022-04-14  03:25:33   Apr  2022  Thursday        Weekday   \n",
       "3  Jacksonville 2022-04-14  02:51:22   Apr  2022  Thursday        Weekday   \n",
       "4  Jacksonville 2022-04-14  02:44:10   Apr  2022  Thursday        Weekday   \n",
       "\n",
       "   tweethour  \n",
       "0          4  \n",
       "1          3  \n",
       "2          3  \n",
       "3          2  \n",
       "4          2  "
      ]
     },
     "execution_count": 97,
     "metadata": {},
     "output_type": "execute_result"
    }
   ],
   "source": [
    "#run vizzes later\n",
    "twitter_df.head()"
   ]
  },
  {
   "cell_type": "code",
   "execution_count": 98,
   "metadata": {},
   "outputs": [
    {
     "data": {
      "text/plain": [
       "(418349, 14)"
      ]
     },
     "execution_count": 98,
     "metadata": {},
     "output_type": "execute_result"
    }
   ],
   "source": [
    "twitter_df.shape"
   ]
  },
  {
   "cell_type": "code",
   "execution_count": 99,
   "metadata": {},
   "outputs": [],
   "source": [
    "import seaborn as sns"
   ]
  },
  {
   "cell_type": "code",
   "execution_count": 100,
   "metadata": {},
   "outputs": [
    {
     "data": {
      "image/png": "[encoded data removed]",
      "text/plain": [
       "<Figure size 720x576 with 1 Axes>"
      ]
     },
     "metadata": {},
     "output_type": "display_data"
    }
   ],
   "source": [
    "%matplotlib inline\n",
    "sns.set(style='darkgrid')\n",
    "plt.figure(figsize=(10,8))\n",
    "ax = sns.countplot(x='month', data=twitter_df)\n",
    "plt.savefig('counts.png')"
   ]
  },
  {
   "cell_type": "code",
   "execution_count": 101,
   "metadata": {},
   "outputs": [
    {
     "data": {
      "image/png": "[encoded data removed]",
      "text/plain": [
       "<Figure size 720x576 with 1 Axes>"
      ]
     },
     "metadata": {},
     "output_type": "display_data"
    }
   ],
   "source": [
    "%matplotlib inline\n",
    "sns.set(style='darkgrid')\n",
    "plt.figure(figsize=(10,8))\n",
    "ax = sns.countplot(x='year', data=twitter_df)\n",
    "plt.savefig('counts.png')"
   ]
  },
  {
   "cell_type": "code",
   "execution_count": 102,
   "metadata": {},
   "outputs": [
    {
     "data": {
      "image/png": "[encoded data removed]",
      "text/plain": [
       "<Figure size 720x576 with 1 Axes>"
      ]
     },
     "metadata": {},
     "output_type": "display_data"
    }
   ],
   "source": [
    "%matplotlib inline\n",
    "sns.set(style='darkgrid')\n",
    "plt.figure(figsize=(10,8))\n",
    "ax = sns.countplot(x='dayofweek', data=twitter_df)\n",
    "plt.savefig('counts.png')"
   ]
  },
  {
   "cell_type": "code",
   "execution_count": 103,
   "metadata": {},
   "outputs": [
    {
     "data": {
      "image/png": "[encoded data removed]",
      "text/plain": [
       "<Figure size 720x576 with 1 Axes>"
      ]
     },
     "metadata": {},
     "output_type": "display_data"
    }
   ],
   "source": [
    "%matplotlib inline\n",
    "sns.set(style='darkgrid')\n",
    "plt.figure(figsize=(10,8))\n",
    "ax = sns.countplot(x='weekendyesorno', data=twitter_df)\n",
    "plt.savefig('counts.png')"
   ]
  },
  {
   "cell_type": "code",
   "execution_count": 104,
   "metadata": {},
   "outputs": [
    {
     "data": {
      "image/png": "[encoded data removed]",
      "text/plain": [
       "<Figure size 720x576 with 1 Axes>"
      ]
     },
     "metadata": {},
     "output_type": "display_data"
    }
   ],
   "source": [
    "%matplotlib inline\n",
    "sns.set(style='darkgrid')\n",
    "plt.figure(figsize=(10,8))\n",
    "ax = sns.countplot(x='tweethour', data=twitter_df)\n",
    "plt.savefig('counts.png')"
   ]
  },
  {
   "cell_type": "code",
   "execution_count": 105,
   "metadata": {},
   "outputs": [],
   "source": [
    "import datetime"
   ]
  },
  {
   "cell_type": "code",
   "execution_count": 106,
   "metadata": {},
   "outputs": [],
   "source": [
    "twitter_df2 = pd.read_excel('C:/AR Files/FBARBP/Data/finaltwitter2.xlsx')\n",
    "twitter_df2 = pd.DataFrame(twitter_df2)"
   ]
  },
  {
   "cell_type": "code",
   "execution_count": 107,
   "metadata": {},
   "outputs": [
    {
     "data": {
      "text/plain": [
       "(418349, 3)"
      ]
     },
     "execution_count": 107,
     "metadata": {},
     "output_type": "execute_result"
    }
   ],
   "source": [
    "twitter_df2.shape"
   ]
  },
  {
   "cell_type": "code",
   "execution_count": 108,
   "metadata": {},
   "outputs": [
    {
     "data": {
      "text/html": [
       "<div>\n",
       "<style scoped>\n",
       "    .dataframe tbody tr th:only-of-type {\n",
       "        vertical-align: middle;\n",
       "    }\n",
       "\n",
       "    .dataframe tbody tr th {\n",
       "        vertical-align: top;\n",
       "    }\n",
       "\n",
       "    .dataframe thead th {\n",
       "        text-align: right;\n",
       "    }\n",
       "</style>\n",
       "<table border=\"1\" class=\"dataframe\">\n",
       "  <thead>\n",
       "    <tr style=\"text-align: right;\">\n",
       "      <th></th>\n",
       "      <th>content</th>\n",
       "      <th>keyword</th>\n",
       "      <th>region</th>\n",
       "    </tr>\n",
       "  </thead>\n",
       "  <tbody>\n",
       "    <tr>\n",
       "      <th>0</th>\n",
       "      <td>There's a reason you don't fuck with a drug lo...</td>\n",
       "      <td>Drugs</td>\n",
       "      <td>Jacksonville</td>\n",
       "    </tr>\n",
       "    <tr>\n",
       "      <th>1</th>\n",
       "      <td>@pmarca Wonder why they have a drug problemâ€¦</td>\n",
       "      <td>Drugs</td>\n",
       "      <td>Jacksonville</td>\n",
       "    </tr>\n",
       "    <tr>\n",
       "      <th>2</th>\n",
       "      <td>@alpha_2987 @DownAtTheFarmUK @HarmonMcCraw @Th...</td>\n",
       "      <td>Drugs</td>\n",
       "      <td>Jacksonville</td>\n",
       "    </tr>\n",
       "    <tr>\n",
       "      <th>3</th>\n",
       "      <td>I like music that make me feel like a drug sla...</td>\n",
       "      <td>Drugs</td>\n",
       "      <td>Jacksonville</td>\n",
       "    </tr>\n",
       "    <tr>\n",
       "      <th>4</th>\n",
       "      <td>@CitizenAndy @scottEmovienerd â€¦ I normally h...</td>\n",
       "      <td>Drugs</td>\n",
       "      <td>Jacksonville</td>\n",
       "    </tr>\n",
       "  </tbody>\n",
       "</table>\n",
       "</div>"
      ],
      "text/plain": [
       "                                             content keyword        region\n",
       "0  There's a reason you don't fuck with a drug lo...   Drugs  Jacksonville\n",
       "1     @pmarca Wonder why they have a drug problemâ€¦   Drugs  Jacksonville\n",
       "2  @alpha_2987 @DownAtTheFarmUK @HarmonMcCraw @Th...   Drugs  Jacksonville\n",
       "3  I like music that make me feel like a drug sla...   Drugs  Jacksonville\n",
       "4  @CitizenAndy @scottEmovienerd â€¦ I normally h...   Drugs  Jacksonville"
      ]
     },
     "execution_count": 108,
     "metadata": {},
     "output_type": "execute_result"
    }
   ],
   "source": [
    "twitter_df2.head()"
   ]
  },
  {
   "cell_type": "code",
   "execution_count": 109,
   "metadata": {},
   "outputs": [],
   "source": [
    "\n",
    "#Perform text preprocessing on tweets\n",
    "\n",
    "#Drop N/A values, and include only posts which have an identified geographic region\n",
    "\n",
    "twitter_df2 = twitter_df2[twitter_df2['content'].notna()]\n",
    "twitter_df2 = twitter_df2[twitter_df2['region'].notna()]\n",
    "twitter_df2 = twitter_df2.drop_duplicates(subset=['content'])"
   ]
  },
  {
   "cell_type": "code",
   "execution_count": 110,
   "metadata": {},
   "outputs": [],
   "source": [
    "\n",
    "twitter_df2.content=twitter_df2.content.astype(str)"
   ]
  },
  {
   "cell_type": "code",
   "execution_count": 111,
   "metadata": {},
   "outputs": [
    {
     "name": "stdout",
     "output_type": "stream",
     "text": [
      "There's a reason you don't fuck with a drug lord because you know that's a warlord if it's a real drug lord.\n",
      "There's a reason you don't fuck with a drug lord because you know that's a warlord if it's a real drug lord.\n"
     ]
    }
   ],
   "source": [
    "#Text processing\n",
    "#Data Cleaning - Snippet\n",
    "\n",
    "print(twitter_df2['content'][0])\n",
    "\n",
    "\n",
    "#Remove author names from the posts, which are any terms starting with '@'\n",
    "stripped_authors = []\n",
    "for i in twitter_df2.index:\n",
    "   stripped_authors.append(' '.join(w for w in twitter_df2['content'][i].split(' ') if not w.startswith('@')))\n",
    "    \n",
    "twitter_df2['content'] = stripped_authors\n",
    "print(twitter_df2['content'][0])\n"
   ]
  },
  {
   "cell_type": "code",
   "execution_count": 112,
   "metadata": {},
   "outputs": [
    {
     "data": {
      "text/plain": [
       "Counter({'Jacksonville': 32014,\n",
       "         'Panhandle': 32813,\n",
       "         'Miami': 129272,\n",
       "         'Tampa': 139787})"
      ]
     },
     "execution_count": 112,
     "metadata": {},
     "output_type": "execute_result"
    }
   ],
   "source": [
    "Counter(twitter_df2['region'])"
   ]
  },
  {
   "cell_type": "code",
   "execution_count": 113,
   "metadata": {},
   "outputs": [
    {
     "name": "stdout",
     "output_type": "stream",
     "text": [
      "Theres a reason you dont fuck with a drug lord because you know thats a warlord if its a real drug lord\n"
     ]
    }
   ],
   "source": [
    "\n",
    "#Remove all non-alphanumeric characters to clean up text and remove symbols, emojis, etc.\n",
    "stripped_strings = []\n",
    "for i in twitter_df2.index:\n",
    "    stripped_strings.append(re.sub(r'[^A-Za-z0-9 ]+', '', twitter_df2['content'][i]))\n",
    "        \n",
    "twitter_df2['content'] = stripped_strings\n",
    "print(twitter_df2['content'][0])\n"
   ]
  },
  {
   "cell_type": "code",
   "execution_count": 114,
   "metadata": {},
   "outputs": [
    {
     "name": "stdout",
     "output_type": "stream",
     "text": [
      "theres a reason you dont fuck with a drug lord because you know thats a warlord if its a real drug lord\n"
     ]
    }
   ],
   "source": [
    "\n",
    "#Twitter posts are stored as a list of string values. To process each string value in the list, iterate the function over each string item in the list. Then return formatted lists\n",
    "# to string format\n",
    "lowercase_posts = []\n",
    "for i in twitter_df2.index:\n",
    "    lowercase_posts.append(twitter_df2['content'][i].lower())\n",
    "\n",
    "twitter_df2['content'] = lowercase_posts\n",
    "print(twitter_df2['content'][0])"
   ]
  },
  {
   "cell_type": "code",
   "execution_count": 115,
   "metadata": {},
   "outputs": [
    {
     "name": "stdout",
     "output_type": "stream",
     "text": [
      "theres a reason you dont fuck with a drug lord because you know thats a warlord if its a real drug lord\n"
     ]
    }
   ],
   "source": [
    "\n",
    "#Remove punctuation from posts\n",
    "strip_punctuation = []\n",
    "for i in twitter_df2.index:\n",
    "    strip_punctuation.append(twitter_df2['content'][i].translate(str.maketrans('','',string.punctuation)))\n",
    "\n",
    "twitter_df2['content'] = strip_punctuation\n",
    "print(twitter_df2['content'][0])"
   ]
  },
  {
   "cell_type": "code",
   "execution_count": 116,
   "metadata": {},
   "outputs": [
    {
     "name": "stdout",
     "output_type": "stream",
     "text": [
      "['theres', 'a', 'reason', 'you', 'dont', 'fuck', 'with', 'a', 'drug', 'lord', 'because', 'you', 'know', 'thats', 'a', 'warlord', 'if', 'its', 'a', 'real', 'drug', 'lord']\n"
     ]
    }
   ],
   "source": [
    "#Tokenize each string input to generate list of lists containing string values\n",
    "tokenized_posts = []\n",
    "for i in twitter_df2.index:\n",
    "    tokenized_posts.append(word_tokenize(twitter_df2['content'][i]))\n",
    "\n",
    "twitter_df2['content'] = tokenized_posts\n",
    "print(twitter_df2['content'][0])"
   ]
  },
  {
   "cell_type": "code",
   "execution_count": 117,
   "metadata": {},
   "outputs": [
    {
     "data": {
      "text/plain": [
       "(333886, 3)"
      ]
     },
     "execution_count": 117,
     "metadata": {},
     "output_type": "execute_result"
    }
   ],
   "source": [
    "twitter_df2.shape"
   ]
  },
  {
   "cell_type": "code",
   "execution_count": 118,
   "metadata": {},
   "outputs": [
    {
     "name": "stdout",
     "output_type": "stream",
     "text": [
      "['theres', 'reason', 'dont', 'fuck', 'drug', 'lord', 'know', 'thats', 'warlord', 'real', 'drug', 'lord']\n"
     ]
    }
   ],
   "source": [
    "#Remove stopwords\n",
    "\n",
    "filtered_posts = []\n",
    "for i in twitter_df2.index:\n",
    "    filtered_posts.append([w for w in twitter_df2['content'][i] if w not in stopwords])\n",
    "    \n",
    "twitter_df2['content'] = filtered_posts\n",
    "print(twitter_df2['content'][0])"
   ]
  },
  {
   "cell_type": "code",
   "execution_count": 119,
   "metadata": {},
   "outputs": [
    {
     "data": {
      "text/plain": [
       "(333886, 3)"
      ]
     },
     "execution_count": 119,
     "metadata": {},
     "output_type": "execute_result"
    }
   ],
   "source": [
    "twitter_df2.shape"
   ]
  },
  {
   "cell_type": "code",
   "execution_count": 120,
   "metadata": {},
   "outputs": [
    {
     "name": "stdout",
     "output_type": "stream",
     "text": [
      "theres reason dont fuck drug lord know thats warlord real drug lord\n"
     ]
    }
   ],
   "source": [
    "#Convert processed text from list to string\n",
    "\n",
    "new_strings = []\n",
    "for i in twitter_df2.index:\n",
    "    new_strings.append(' '.join(twitter_df2['content'][i]))\n",
    "\n",
    "twitter_df2['content'] = new_strings\n",
    "print(twitter_df2['content'][0])"
   ]
  },
  {
   "cell_type": "code",
   "execution_count": 121,
   "metadata": {},
   "outputs": [
    {
     "data": {
      "text/plain": [
       "(333886, 3)"
      ]
     },
     "execution_count": 121,
     "metadata": {},
     "output_type": "execute_result"
    }
   ],
   "source": [
    "twitter_df2.shape"
   ]
  },
  {
   "cell_type": "code",
   "execution_count": 122,
   "metadata": {},
   "outputs": [
    {
     "name": "stdout",
     "output_type": "stream",
     "text": [
      "theres reason dont fuck drug lord know thats warlord real drug lord\n",
      "           \n",
      "Formatted Dataframe:\n"
     ]
    },
    {
     "data": {
      "text/html": [
       "<div>\n",
       "<style scoped>\n",
       "    .dataframe tbody tr th:only-of-type {\n",
       "        vertical-align: middle;\n",
       "    }\n",
       "\n",
       "    .dataframe tbody tr th {\n",
       "        vertical-align: top;\n",
       "    }\n",
       "\n",
       "    .dataframe thead th {\n",
       "        text-align: right;\n",
       "    }\n",
       "</style>\n",
       "<table border=\"1\" class=\"dataframe\">\n",
       "  <thead>\n",
       "    <tr style=\"text-align: right;\">\n",
       "      <th></th>\n",
       "      <th>content</th>\n",
       "      <th>keyword</th>\n",
       "      <th>region</th>\n",
       "    </tr>\n",
       "  </thead>\n",
       "  <tbody>\n",
       "    <tr>\n",
       "      <th>0</th>\n",
       "      <td>theres reason dont fuck drug lord know thats w...</td>\n",
       "      <td>Drugs</td>\n",
       "      <td>Jacksonville</td>\n",
       "    </tr>\n",
       "    <tr>\n",
       "      <th>1</th>\n",
       "      <td>wonder drug problem</td>\n",
       "      <td>Drugs</td>\n",
       "      <td>Jacksonville</td>\n",
       "    </tr>\n",
       "    <tr>\n",
       "      <th>2</th>\n",
       "      <td>countless areas like yemen syria iraq palestin...</td>\n",
       "      <td>Drugs</td>\n",
       "      <td>Jacksonville</td>\n",
       "    </tr>\n",
       "    <tr>\n",
       "      <th>3</th>\n",
       "      <td>like music make feel like drug slang gangsta 2011</td>\n",
       "      <td>Drugs</td>\n",
       "      <td>Jacksonville</td>\n",
       "    </tr>\n",
       "    <tr>\n",
       "      <th>4</th>\n",
       "      <td>normally give speech virginia case drug gun ke...</td>\n",
       "      <td>Drugs</td>\n",
       "      <td>Jacksonville</td>\n",
       "    </tr>\n",
       "  </tbody>\n",
       "</table>\n",
       "</div>"
      ],
      "text/plain": [
       "                                             content keyword        region\n",
       "0  theres reason dont fuck drug lord know thats w...   Drugs  Jacksonville\n",
       "1                                wonder drug problem   Drugs  Jacksonville\n",
       "2  countless areas like yemen syria iraq palestin...   Drugs  Jacksonville\n",
       "3  like music make feel like drug slang gangsta 2011   Drugs  Jacksonville\n",
       "4  normally give speech virginia case drug gun ke...   Drugs  Jacksonville"
      ]
     },
     "execution_count": 122,
     "metadata": {},
     "output_type": "execute_result"
    }
   ],
   "source": [
    "\n",
    "#Lemmatize posts\n",
    "wn = WordNetLemmatizer()\n",
    "lemmatized_posts = []\n",
    "\n",
    "for i in twitter_df2.index:\n",
    "    lemmatized_content = []\n",
    "    post = twitter_df2['content'][i]\n",
    "    post_words = post.split(\" \")\n",
    "    for word in post_words:\n",
    "        lemmatized_content.append(wn.lemmatize(word, pos='v'))\n",
    "    lemmatized_post = \" \".join(lemmatized_content)\n",
    "    lemmatized_posts.append(lemmatized_post)\n",
    "\n",
    "twitter_df2['content'] = lemmatized_posts\n",
    "print(twitter_df2['content'][0])\n",
    "\n",
    "print('           ')\n",
    "\n",
    "print('Formatted Dataframe:')\n",
    "\n",
    "twitter_df2.head()"
   ]
  },
  {
   "cell_type": "code",
   "execution_count": 123,
   "metadata": {},
   "outputs": [
    {
     "data": {
      "text/plain": [
       "(333886, 3)"
      ]
     },
     "execution_count": 123,
     "metadata": {},
     "output_type": "execute_result"
    }
   ],
   "source": [
    "twitter_df2.shape"
   ]
  },
  {
   "cell_type": "code",
   "execution_count": 139,
   "metadata": {},
   "outputs": [],
   "source": [
    "#Transform \n",
    "np.set_printoptions(threshold=1000)\n",
    "tweets = twitter_df2['content']\n",
    "region = twitter_df2['region']\n",
    "#Convert Tweets to vectors\n",
    "tweet_vectors = tfidf.transform(tweets).toarray()\n",
    "\n",
    "\n",
    "#Run predictive model\n",
    "tweet_predictions = lgreg_model.predict(tweet_vectors)\n",
    "tweet_predictions = tweet_predictions.tolist()\n",
    "\n",
    "\n",
    "#Generate dataframe showing tweet and its predicted mental health indication\n",
    "\n",
    "tweet_classifications = {'content': tweets,'region': region, 'topic_code' : tweet_predictions}\n",
    "\n",
    "tweet_df = pd.DataFrame(tweet_classifications)\n",
    "\n",
    "categories = []\n",
    "for i in tweet_df.index:\n",
    "    if tweet_df['topic_code'][i] == 0:\n",
    "        categories.append('Alcoholism')\n",
    "    elif tweet_df['topic_code'][i] == 1:\n",
    "        categories.append('Anxiety')\n",
    "    elif tweet_df['topic_code'][i] == 2:\n",
    "        categories.append('Bipolar')\n",
    "    elif tweet_df['topic_code'][i] == 3:\n",
    "        categories.append('Depression')\n",
    "    elif tweet_df['topic_code'][i] == 4:\n",
    "        categories.append('Health Anxiety')       \n",
    "    elif tweet_df['topic_code'][i] == 5:\n",
    "        categories.append('Mental Health')\n",
    "    elif tweet_df['topic_code'][i] == 6:\n",
    "        categories.append('PTSD')\n",
    "    elif tweet_df['topic_code'][i] == 7:\n",
    "        categories.append('Schizophrenia')\n",
    "    elif tweet_df['topic_code'][i] == 8:\n",
    "        categories.append('Social Anxiety')  \n",
    "    elif tweet_df['topic_code'][i] == 9:\n",
    "        categories.append('Suicide')         \n",
    "        \n",
    "tweet_df['Categories'] = categories"
   ]
  },
  {
   "cell_type": "code",
   "execution_count": 140,
   "metadata": {},
   "outputs": [
    {
     "data": {
      "text/plain": [
       "(333886, 4)"
      ]
     },
     "execution_count": 140,
     "metadata": {},
     "output_type": "execute_result"
    }
   ],
   "source": [
    "tweet_df.shape"
   ]
  },
  {
   "cell_type": "code",
   "execution_count": 141,
   "metadata": {},
   "outputs": [
    {
     "data": {
      "text/html": [
       "<div>\n",
       "<style scoped>\n",
       "    .dataframe tbody tr th:only-of-type {\n",
       "        vertical-align: middle;\n",
       "    }\n",
       "\n",
       "    .dataframe tbody tr th {\n",
       "        vertical-align: top;\n",
       "    }\n",
       "\n",
       "    .dataframe thead th {\n",
       "        text-align: right;\n",
       "    }\n",
       "</style>\n",
       "<table border=\"1\" class=\"dataframe\">\n",
       "  <thead>\n",
       "    <tr style=\"text-align: right;\">\n",
       "      <th></th>\n",
       "      <th>content</th>\n",
       "      <th>region</th>\n",
       "      <th>topic_code</th>\n",
       "      <th>Categories</th>\n",
       "    </tr>\n",
       "  </thead>\n",
       "  <tbody>\n",
       "    <tr>\n",
       "      <th>0</th>\n",
       "      <td>theres reason dont fuck drug lord know thats w...</td>\n",
       "      <td>Jacksonville</td>\n",
       "      <td>3</td>\n",
       "      <td>Depression</td>\n",
       "    </tr>\n",
       "    <tr>\n",
       "      <th>1</th>\n",
       "      <td>wonder drug problem</td>\n",
       "      <td>Jacksonville</td>\n",
       "      <td>3</td>\n",
       "      <td>Depression</td>\n",
       "    </tr>\n",
       "    <tr>\n",
       "      <th>2</th>\n",
       "      <td>countless areas like yemen syria iraq palestin...</td>\n",
       "      <td>Jacksonville</td>\n",
       "      <td>3</td>\n",
       "      <td>Depression</td>\n",
       "    </tr>\n",
       "    <tr>\n",
       "      <th>3</th>\n",
       "      <td>like music make feel like drug slang gangsta 2011</td>\n",
       "      <td>Jacksonville</td>\n",
       "      <td>3</td>\n",
       "      <td>Depression</td>\n",
       "    </tr>\n",
       "    <tr>\n",
       "      <th>4</th>\n",
       "      <td>normally give speech virginia case drug gun ke...</td>\n",
       "      <td>Jacksonville</td>\n",
       "      <td>3</td>\n",
       "      <td>Depression</td>\n",
       "    </tr>\n",
       "  </tbody>\n",
       "</table>\n",
       "</div>"
      ],
      "text/plain": [
       "                                             content        region  \\\n",
       "0  theres reason dont fuck drug lord know thats w...  Jacksonville   \n",
       "1                                wonder drug problem  Jacksonville   \n",
       "2  countless areas like yemen syria iraq palestin...  Jacksonville   \n",
       "3  like music make feel like drug slang gangsta 2011  Jacksonville   \n",
       "4  normally give speech virginia case drug gun ke...  Jacksonville   \n",
       "\n",
       "   topic_code  Categories  \n",
       "0           3  Depression  \n",
       "1           3  Depression  \n",
       "2           3  Depression  \n",
       "3           3  Depression  \n",
       "4           3  Depression  "
      ]
     },
     "execution_count": 141,
     "metadata": {},
     "output_type": "execute_result"
    }
   ],
   "source": [
    "tweet_df.head()"
   ]
  },
  {
   "cell_type": "code",
   "execution_count": 142,
   "metadata": {},
   "outputs": [],
   "source": [
    "classified_tweets = tweet_df"
   ]
  },
  {
   "cell_type": "code",
   "execution_count": 125,
   "metadata": {},
   "outputs": [],
   "source": [
    "# 0'alcoholism': 5084,\n",
    "#  1        'anxiety': 53797,\n",
    "#   2       'bipolarreddit': 5186,\n",
    "#    3      'depression': 111128,\n",
    "#     4     'healthanxiety': 7849,\n",
    "#      5    'mentalhealth': 40295,\n",
    "#       6   'ptsd': 7553,\n",
    "#        7  'schizophrenia': 7665,\n",
    "#         8 'socialanxiety': 19656,\n",
    "#           9'suicidewatch': 61846})"
   ]
  },
  {
   "cell_type": "code",
   "execution_count": 126,
   "metadata": {},
   "outputs": [],
   "source": [
    "# #Merge location data from twitter_df to add additional context for analysis\n",
    "# classified_tweets = pd.merge(tweet_df, twitter_df, on = 'content', how ='inner')\n",
    "# classified_tweets = classified_tweets[['content','region','Categories']]\n",
    "# classified_tweets"
   ]
  },
  {
   "cell_type": "code",
   "execution_count": 127,
   "metadata": {},
   "outputs": [],
   "source": [
    "# from pathlib import Path  \n",
    "# filepath = Path('C:/AR Files/FBARBP/Data/out2.csv')  \n",
    "# filepath.parent.mkdir(parents=True, exist_ok=True)  \n",
    "# tweets_df4.to_csv(filepath)  "
   ]
  },
  {
   "cell_type": "code",
   "execution_count": 146,
   "metadata": {},
   "outputs": [
    {
     "data": {
      "text/plain": [
       "(333886, 4)"
      ]
     },
     "execution_count": 146,
     "metadata": {},
     "output_type": "execute_result"
    }
   ],
   "source": [
    "tweet_df.shape"
   ]
  },
  {
   "cell_type": "code",
   "execution_count": 147,
   "metadata": {},
   "outputs": [
    {
     "data": {
      "text/plain": [
       "(333886, 4)"
      ]
     },
     "execution_count": 147,
     "metadata": {},
     "output_type": "execute_result"
    }
   ],
   "source": [
    "classified_tweets.shape"
   ]
  },
  {
   "cell_type": "code",
   "execution_count": 148,
   "metadata": {},
   "outputs": [
    {
     "data": {
      "image/png": "[encoded data removed]",
      "text/plain": [
       "<Figure size 504x720 with 1 Axes>"
      ]
     },
     "metadata": {},
     "output_type": "display_data"
    },
    {
     "name": "stdout",
     "output_type": "stream",
     "text": [
      "Depression  :  48.782%\n",
      "Suicide  :  9.806%\n",
      "Anxiety  :  24.011%\n",
      "Mental Health  :  3.573%\n",
      "Schizophrenia  :  2.017%\n",
      "Bipolar  :  0.09%\n",
      "PTSD  :  6.22%\n",
      "Social Anxiety  :  1.862%\n",
      "Health Anxiety  :  1.913%\n",
      "Alcoholism  :  1.727%\n"
     ]
    }
   ],
   "source": [
    "sns.set_color_codes('pastel')\n",
    "sns.set(style='darkgrid')\n",
    "sns.set(rc={'figure.figsize':(7,10)})\n",
    "sns.countplot(y='Categories', data=classified_tweets, order = classified_tweets['Categories'].value_counts().index, color='b')\n",
    "plt.show()\n",
    "\n",
    "categories = []\n",
    "percentages = []\n",
    "for i in Counter(classified_tweets['Categories']):\n",
    "    categories.append(i) \n",
    "    percentages.append(str(round(len(classified_tweets[classified_tweets['Categories']==i])/len(classified_tweets),5)*100) + '%')\n",
    "\n",
    "zipped_values = zip(categories, percentages)\n",
    "categories_dist = dict(zipped_values)\n",
    "\n",
    "for k, v in categories_dist.items():\n",
    "    print(k, ' : ', v)\n"
   ]
  },
  {
   "cell_type": "code",
   "execution_count": 131,
   "metadata": {},
   "outputs": [
    {
     "data": {
      "image/png": "[encoded data removed]",
      "text/plain": [
       "<Figure size 720x1152 with 1 Axes>"
      ]
     },
     "metadata": {},
     "output_type": "display_data"
    },
    {
     "name": "stdout",
     "output_type": "stream",
     "text": [
      "Depression  :  34.561%\n",
      "Suicide  :  1.704%\n",
      "Anxiety  :  58.779%\n",
      "Mental Health  :  0.645%\n",
      "Schizophrenia  :  0.407%\n",
      "Bipolar  :  0.016%\n",
      "PTSD  :  2.97%\n",
      "Social Anxiety  :  0.308%\n",
      "Health Anxiety  :  0.307%\n",
      "Alcoholism  :  0.304%\n"
     ]
    }
   ],
   "source": [
    "sns.set_color_codes('pastel')\n",
    "sns.set(style='darkgrid')\n",
    "sns.set(rc={'figure.figsize':(10,16)})\n",
    "sns.countplot(y='Categories', data=classified_tweets, order = classified_tweets['Categories'].value_counts().index, color='b')\n",
    "plt.show()\n",
    "\n",
    "categories = []\n",
    "percentages = []\n",
    "for i in Counter(classified_tweets['Categories']):\n",
    "    categories.append(i) \n",
    "    percentages.append(str(round(len(classified_tweets[classified_tweets['Categories']==i])/len(classified_tweets),5)*100) + '%')\n",
    "\n",
    "zipped_values = zip(categories, percentages)\n",
    "categories_dist = dict(zipped_values)\n",
    "\n",
    "for k, v in categories_dist.items():\n",
    "    print(k, ' : ', v)\n"
   ]
  },
  {
   "cell_type": "code",
   "execution_count": 149,
   "metadata": {},
   "outputs": [
    {
     "data": {
      "image/png": "[encoded data removed]",
      "text/plain": [
       "<Figure size 720x576 with 1 Axes>"
      ]
     },
     "metadata": {},
     "output_type": "display_data"
    },
    {
     "name": "stdout",
     "output_type": "stream",
     "text": [
      "Jacksonville  :  9.588000000000001%\n",
      "Panhandle  :  9.828000000000001%\n",
      "Miami  :  38.717%\n",
      "Tampa  :  41.867%\n"
     ]
    }
   ],
   "source": [
    "#View regional breakdown \n",
    "provinces = []\n",
    "percentages = []\n",
    "for i in Counter(classified_tweets['region']):\n",
    "    provinces.append(i) \n",
    "    percentages.append(str(round(len(classified_tweets[classified_tweets['region']==i])/len(classified_tweets),5)*100) + '%')\n",
    "\n",
    "zipped_values = zip(provinces, percentages)\n",
    "regional_dist = dict(zipped_values)\n",
    "\n",
    "#Plot counts\n",
    "sns.set_color_codes('pastel')\n",
    "sns.set(style='darkgrid')\n",
    "plt.figure(figsize=(10,8))\n",
    "ax = sns.countplot(x='region', data=classified_tweets, order = classified_tweets['region'].value_counts().index, color='b', label='# of Tweets')\n",
    "ax.set_xticklabels(ax.get_xticklabels(), rotation=40, ha='right')\n",
    "plt.show()\n",
    "\n",
    "#Show percentage breakdown\n",
    "for k, v in regional_dist.items():\n",
    "    print(k, ' : ', v)\n"
   ]
  },
  {
   "cell_type": "code",
   "execution_count": 150,
   "metadata": {},
   "outputs": [
    {
     "name": "stderr",
     "output_type": "stream",
     "text": [
      "C:\\Users\\ADHIRA~1\\AppData\\Local\\Temp/ipykernel_16860/3765080843.py:5: UserWarning: FixedFormatter should only be used together with FixedLocator\n",
      "  ax.set_xticklabels(ax.get_xticklabels(), rotation=40, ha='right')\n"
     ]
    },
    {
     "data": {
      "image/png": "[encoded data removed]",
      "text/plain": [
       "<Figure size 1440x720 with 1 Axes>"
      ]
     },
     "metadata": {},
     "output_type": "display_data"
    }
   ],
   "source": [
    "sns.set_color_codes('pastel')\n",
    "sns.set(style='darkgrid')\n",
    "plt.figure(figsize=(20,10))\n",
    "ax = sns.countplot(y='region', data=classified_tweets, order = classified_tweets['region'].value_counts().index, hue='Categories')\n",
    "ax.set_xticklabels(ax.get_xticklabels(), rotation=40, ha='right')\n",
    "plt.legend(loc='upper right')\n",
    "plt.show()"
   ]
  },
  {
   "cell_type": "code",
   "execution_count": 180,
   "metadata": {},
   "outputs": [
    {
     "data": {
      "text/html": [
       "<div>\n",
       "<style scoped>\n",
       "    .dataframe tbody tr th:only-of-type {\n",
       "        vertical-align: middle;\n",
       "    }\n",
       "\n",
       "    .dataframe tbody tr th {\n",
       "        vertical-align: top;\n",
       "    }\n",
       "\n",
       "    .dataframe thead th {\n",
       "        text-align: right;\n",
       "    }\n",
       "</style>\n",
       "<table border=\"1\" class=\"dataframe\">\n",
       "  <thead>\n",
       "    <tr style=\"text-align: right;\">\n",
       "      <th></th>\n",
       "      <th>Depression</th>\n",
       "      <th>Anxiety</th>\n",
       "      <th>Bipolar</th>\n",
       "      <th>Schizophrenia</th>\n",
       "      <th>Alcoholism</th>\n",
       "      <th>Healthanxiety</th>\n",
       "      <th>Mentalhealth</th>\n",
       "      <th>PTSD</th>\n",
       "      <th>Socialanxiety</th>\n",
       "      <th>Suicidewatch</th>\n",
       "    </tr>\n",
       "    <tr>\n",
       "      <th>region</th>\n",
       "      <th></th>\n",
       "      <th></th>\n",
       "      <th></th>\n",
       "      <th></th>\n",
       "      <th></th>\n",
       "      <th></th>\n",
       "      <th></th>\n",
       "      <th></th>\n",
       "      <th></th>\n",
       "      <th></th>\n",
       "    </tr>\n",
       "  </thead>\n",
       "  <tbody>\n",
       "    <tr>\n",
       "      <th>Jacksonville</th>\n",
       "      <td>18029</td>\n",
       "      <td>5140</td>\n",
       "      <td>23</td>\n",
       "      <td>1033</td>\n",
       "      <td>428</td>\n",
       "      <td>930</td>\n",
       "      <td>746</td>\n",
       "      <td>1159</td>\n",
       "      <td>650</td>\n",
       "      <td>3876</td>\n",
       "    </tr>\n",
       "    <tr>\n",
       "      <th>Miami</th>\n",
       "      <td>63388</td>\n",
       "      <td>31220</td>\n",
       "      <td>94</td>\n",
       "      <td>2307</td>\n",
       "      <td>2138</td>\n",
       "      <td>2238</td>\n",
       "      <td>4358</td>\n",
       "      <td>9061</td>\n",
       "      <td>2189</td>\n",
       "      <td>12279</td>\n",
       "    </tr>\n",
       "    <tr>\n",
       "      <th>Panhandle</th>\n",
       "      <td>17611</td>\n",
       "      <td>6581</td>\n",
       "      <td>17</td>\n",
       "      <td>820</td>\n",
       "      <td>511</td>\n",
       "      <td>989</td>\n",
       "      <td>864</td>\n",
       "      <td>1135</td>\n",
       "      <td>787</td>\n",
       "      <td>3498</td>\n",
       "    </tr>\n",
       "    <tr>\n",
       "      <th>Tampa</th>\n",
       "      <td>63847</td>\n",
       "      <td>37228</td>\n",
       "      <td>165</td>\n",
       "      <td>2574</td>\n",
       "      <td>2690</td>\n",
       "      <td>2229</td>\n",
       "      <td>5963</td>\n",
       "      <td>9413</td>\n",
       "      <td>2591</td>\n",
       "      <td>13087</td>\n",
       "    </tr>\n",
       "  </tbody>\n",
       "</table>\n",
       "</div>"
      ],
      "text/plain": [
       "              Depression  Anxiety  Bipolar  Schizophrenia  Alcoholism  \\\n",
       "region                                                                  \n",
       "Jacksonville       18029     5140       23           1033         428   \n",
       "Miami              63388    31220       94           2307        2138   \n",
       "Panhandle          17611     6581       17            820         511   \n",
       "Tampa              63847    37228      165           2574        2690   \n",
       "\n",
       "              Healthanxiety  Mentalhealth  PTSD  Socialanxiety  Suicidewatch  \n",
       "region                                                                        \n",
       "Jacksonville            930           746  1159            650          3876  \n",
       "Miami                  2238          4358  9061           2189         12279  \n",
       "Panhandle               989           864  1135            787          3498  \n",
       "Tampa                  2229          5963  9413           2591         13087  "
      ]
     },
     "execution_count": 180,
     "metadata": {},
     "output_type": "execute_result"
    }
   ],
   "source": [
    "#We can create a dataframe to view the underlying post numbers in our graph\n",
    "\n",
    "depression = pd.DataFrame(classified_tweets[classified_tweets.Categories=='Depression'].groupby('region')['content'].count())\n",
    "anxiety = pd.DataFrame(classified_tweets[classified_tweets.Categories=='Anxiety'].groupby('region')['content'].count())\n",
    "bipolar = pd.DataFrame(classified_tweets[classified_tweets.Categories=='Bipolar'].groupby('region')['content'].count())\n",
    "schizophrenia = pd.DataFrame(classified_tweets[classified_tweets.Categories=='Schizophrenia'].groupby('region')['content'].count())\n",
    "alcoholism = pd.DataFrame(classified_tweets[classified_tweets.Categories=='Alcoholism'].groupby('region')['content'].count())\n",
    "healthanxiety = pd.DataFrame(classified_tweets[classified_tweets.Categories=='Health Anxiety'].groupby('region')['content'].count())\n",
    "mentalhealth = pd.DataFrame(classified_tweets[classified_tweets.Categories=='Mental Health'].groupby('region')['content'].count())\n",
    "ptsd = pd.DataFrame(classified_tweets[classified_tweets.Categories=='PTSD'].groupby('region')['content'].count())\n",
    "socialanxiety = pd.DataFrame(classified_tweets[classified_tweets.Categories=='Social Anxiety'].groupby('region')['content'].count())\n",
    "suicide = pd.DataFrame(classified_tweets[classified_tweets.Categories=='Suicide'].groupby('region')['content'].count())\n",
    "\n",
    "\n",
    "\n",
    "\n",
    "\n",
    "regions_merged = pd.concat([depression,anxiety,bipolar,schizophrenia,alcoholism,healthanxiety,mentalhealth,ptsd,socialanxiety,suicide], join='outer', axis=1)\n",
    "\n",
    "regions_merged.columns = ['Depression','Anxiety','Bipolar','Schizophrenia','Alcoholism','Healthanxiety','Mentalhealth','PTSD','Socialanxiety','Suicidewatch']\n",
    "\n",
    "regions_merged"
   ]
  },
  {
   "cell_type": "code",
   "execution_count": 184,
   "metadata": {},
   "outputs": [
    {
     "data": {
      "text/html": [
       "<div>\n",
       "<style scoped>\n",
       "    .dataframe tbody tr th:only-of-type {\n",
       "        vertical-align: middle;\n",
       "    }\n",
       "\n",
       "    .dataframe tbody tr th {\n",
       "        vertical-align: top;\n",
       "    }\n",
       "\n",
       "    .dataframe thead th {\n",
       "        text-align: right;\n",
       "    }\n",
       "</style>\n",
       "<table border=\"1\" class=\"dataframe\">\n",
       "  <thead>\n",
       "    <tr style=\"text-align: right;\">\n",
       "      <th></th>\n",
       "      <th>Depression</th>\n",
       "      <th>Anxiety</th>\n",
       "      <th>Bipolar</th>\n",
       "      <th>Schizophrenia</th>\n",
       "      <th>Alcoholism</th>\n",
       "      <th>Healthanxiety</th>\n",
       "      <th>Mentalhealth</th>\n",
       "      <th>PTSD</th>\n",
       "      <th>Socialanxiety</th>\n",
       "      <th>Suicidewatch</th>\n",
       "    </tr>\n",
       "    <tr>\n",
       "      <th>region</th>\n",
       "      <th></th>\n",
       "      <th></th>\n",
       "      <th></th>\n",
       "      <th></th>\n",
       "      <th></th>\n",
       "      <th></th>\n",
       "      <th></th>\n",
       "      <th></th>\n",
       "      <th></th>\n",
       "      <th></th>\n",
       "    </tr>\n",
       "  </thead>\n",
       "  <tbody>\n",
       "    <tr>\n",
       "      <th>Jacksonville</th>\n",
       "      <td>18029</td>\n",
       "      <td>5140</td>\n",
       "      <td>23</td>\n",
       "      <td>1033</td>\n",
       "      <td>428</td>\n",
       "      <td>930</td>\n",
       "      <td>746</td>\n",
       "      <td>1159</td>\n",
       "      <td>650</td>\n",
       "      <td>3876</td>\n",
       "    </tr>\n",
       "    <tr>\n",
       "      <th>Miami</th>\n",
       "      <td>63388</td>\n",
       "      <td>31220</td>\n",
       "      <td>94</td>\n",
       "      <td>2307</td>\n",
       "      <td>2138</td>\n",
       "      <td>2238</td>\n",
       "      <td>4358</td>\n",
       "      <td>9061</td>\n",
       "      <td>2189</td>\n",
       "      <td>12279</td>\n",
       "    </tr>\n",
       "    <tr>\n",
       "      <th>Panhandle</th>\n",
       "      <td>17611</td>\n",
       "      <td>6581</td>\n",
       "      <td>17</td>\n",
       "      <td>820</td>\n",
       "      <td>511</td>\n",
       "      <td>989</td>\n",
       "      <td>864</td>\n",
       "      <td>1135</td>\n",
       "      <td>787</td>\n",
       "      <td>3498</td>\n",
       "    </tr>\n",
       "    <tr>\n",
       "      <th>Tampa</th>\n",
       "      <td>63847</td>\n",
       "      <td>37228</td>\n",
       "      <td>165</td>\n",
       "      <td>2574</td>\n",
       "      <td>2690</td>\n",
       "      <td>2229</td>\n",
       "      <td>5963</td>\n",
       "      <td>9413</td>\n",
       "      <td>2591</td>\n",
       "      <td>13087</td>\n",
       "    </tr>\n",
       "  </tbody>\n",
       "</table>\n",
       "</div>"
      ],
      "text/plain": [
       "              Depression  Anxiety  Bipolar  Schizophrenia  Alcoholism  \\\n",
       "region                                                                  \n",
       "Jacksonville       18029     5140       23           1033         428   \n",
       "Miami              63388    31220       94           2307        2138   \n",
       "Panhandle          17611     6581       17            820         511   \n",
       "Tampa              63847    37228      165           2574        2690   \n",
       "\n",
       "              Healthanxiety  Mentalhealth  PTSD  Socialanxiety  Suicidewatch  \n",
       "region                                                                        \n",
       "Jacksonville            930           746  1159            650          3876  \n",
       "Miami                  2238          4358  9061           2189         12279  \n",
       "Panhandle               989           864  1135            787          3498  \n",
       "Tampa                  2229          5963  9413           2591         13087  "
      ]
     },
     "execution_count": 184,
     "metadata": {},
     "output_type": "execute_result"
    }
   ],
   "source": [
    "regions_merged.head()"
   ]
  },
  {
   "cell_type": "code",
   "execution_count": 185,
   "metadata": {},
   "outputs": [],
   "source": [
    "regions_merged.to_csv('RM.csv', index=True, header=True)"
   ]
  },
  {
   "cell_type": "code",
   "execution_count": 186,
   "metadata": {},
   "outputs": [],
   "source": [
    "from pathlib import Path  \n",
    "filepath = Path('C:/AR Files/FBARBP/Data/RM2.csv')  \n",
    "filepath.parent.mkdir(parents=True, exist_ok=True)  \n",
    "regions_merged.to_csv(filepath)"
   ]
  },
  {
   "cell_type": "code",
   "execution_count": 187,
   "metadata": {},
   "outputs": [],
   "source": [
    "rmfinal = pd.read_csv('C:/AR Files/FBARBP/Data/RM2.csv')  "
   ]
  },
  {
   "cell_type": "code",
   "execution_count": 188,
   "metadata": {},
   "outputs": [
    {
     "data": {
      "text/html": [
       "<div>\n",
       "<style scoped>\n",
       "    .dataframe tbody tr th:only-of-type {\n",
       "        vertical-align: middle;\n",
       "    }\n",
       "\n",
       "    .dataframe tbody tr th {\n",
       "        vertical-align: top;\n",
       "    }\n",
       "\n",
       "    .dataframe thead th {\n",
       "        text-align: right;\n",
       "    }\n",
       "</style>\n",
       "<table border=\"1\" class=\"dataframe\">\n",
       "  <thead>\n",
       "    <tr style=\"text-align: right;\">\n",
       "      <th></th>\n",
       "      <th>region</th>\n",
       "      <th>Depression</th>\n",
       "      <th>Anxiety</th>\n",
       "      <th>Bipolar</th>\n",
       "      <th>Schizophrenia</th>\n",
       "      <th>Alcoholism</th>\n",
       "      <th>Healthanxiety</th>\n",
       "      <th>Mentalhealth</th>\n",
       "      <th>PTSD</th>\n",
       "      <th>Socialanxiety</th>\n",
       "      <th>Suicidewatch</th>\n",
       "    </tr>\n",
       "  </thead>\n",
       "  <tbody>\n",
       "    <tr>\n",
       "      <th>0</th>\n",
       "      <td>Jacksonville</td>\n",
       "      <td>18029</td>\n",
       "      <td>5140</td>\n",
       "      <td>23</td>\n",
       "      <td>1033</td>\n",
       "      <td>428</td>\n",
       "      <td>930</td>\n",
       "      <td>746</td>\n",
       "      <td>1159</td>\n",
       "      <td>650</td>\n",
       "      <td>3876</td>\n",
       "    </tr>\n",
       "    <tr>\n",
       "      <th>1</th>\n",
       "      <td>Miami</td>\n",
       "      <td>63388</td>\n",
       "      <td>31220</td>\n",
       "      <td>94</td>\n",
       "      <td>2307</td>\n",
       "      <td>2138</td>\n",
       "      <td>2238</td>\n",
       "      <td>4358</td>\n",
       "      <td>9061</td>\n",
       "      <td>2189</td>\n",
       "      <td>12279</td>\n",
       "    </tr>\n",
       "    <tr>\n",
       "      <th>2</th>\n",
       "      <td>Panhandle</td>\n",
       "      <td>17611</td>\n",
       "      <td>6581</td>\n",
       "      <td>17</td>\n",
       "      <td>820</td>\n",
       "      <td>511</td>\n",
       "      <td>989</td>\n",
       "      <td>864</td>\n",
       "      <td>1135</td>\n",
       "      <td>787</td>\n",
       "      <td>3498</td>\n",
       "    </tr>\n",
       "    <tr>\n",
       "      <th>3</th>\n",
       "      <td>Tampa</td>\n",
       "      <td>63847</td>\n",
       "      <td>37228</td>\n",
       "      <td>165</td>\n",
       "      <td>2574</td>\n",
       "      <td>2690</td>\n",
       "      <td>2229</td>\n",
       "      <td>5963</td>\n",
       "      <td>9413</td>\n",
       "      <td>2591</td>\n",
       "      <td>13087</td>\n",
       "    </tr>\n",
       "  </tbody>\n",
       "</table>\n",
       "</div>"
      ],
      "text/plain": [
       "         region  Depression  Anxiety  Bipolar  Schizophrenia  Alcoholism  \\\n",
       "0  Jacksonville       18029     5140       23           1033         428   \n",
       "1         Miami       63388    31220       94           2307        2138   \n",
       "2     Panhandle       17611     6581       17            820         511   \n",
       "3         Tampa       63847    37228      165           2574        2690   \n",
       "\n",
       "   Healthanxiety  Mentalhealth  PTSD  Socialanxiety  Suicidewatch  \n",
       "0            930           746  1159            650          3876  \n",
       "1           2238          4358  9061           2189         12279  \n",
       "2            989           864  1135            787          3498  \n",
       "3           2229          5963  9413           2591         13087  "
      ]
     },
     "execution_count": 188,
     "metadata": {},
     "output_type": "execute_result"
    }
   ],
   "source": [
    "rmfinal.head()"
   ]
  },
  {
   "cell_type": "code",
   "execution_count": 201,
   "metadata": {},
   "outputs": [
    {
     "data": {
      "image/png": "[encoded data removed]",
      "text/plain": [
       "<Figure size 648x576 with 1 Axes>"
      ]
     },
     "metadata": {},
     "output_type": "display_data"
    }
   ],
   "source": [
    "import matplotlib.pyplot as plt \n",
    "rmfinal.plot(x=\"region\", y=[\"Depression\",\"Anxiety\",\"Bipolar\",\"Schizophrenia\",\"Alcoholism\",\"Healthanxiety\",\"Mentalhealth\",\"PTSD\",\"Socialanxiety\",\"Suicidewatch\"], kind=\"bar\",figsize=(9,8))\n",
    "plt.show()"
   ]
  },
  {
   "cell_type": "code",
   "execution_count": 204,
   "metadata": {},
   "outputs": [
    {
     "data": {
      "image/png": "[encoded data removed]",
      "text/plain": [
       "<Figure size 648x576 with 1 Axes>"
      ]
     },
     "metadata": {},
     "output_type": "display_data"
    }
   ],
   "source": [
    "import matplotlib.pyplot as plt \n",
    "rmfinal.plot(x=\"region\", y=[\"Bipolar\",\"Schizophrenia\",\"Alcoholism\",\"Healthanxiety\",\"Mentalhealth\",\"PTSD\",\"Socialanxiety\",\"Suicidewatch\"], kind=\"bar\",figsize=(9,8))\n",
    "plt.show()"
   ]
  }
 ],
 "metadata": {
  "kernelspec": {
   "display_name": "Python 3 (ipykernel)",
   "language": "python",
   "name": "python3"
  },
  "language_info": {
   "codemirror_mode": {
    "name": "ipython",
    "version": 3
   },
   "file_extension": ".py",
   "mimetype": "text/x-python",
   "name": "python",
   "nbconvert_exporter": "python",
   "pygments_lexer": "ipython3",
   "version": "3.9.7"
  }
 },
 "nbformat": 4,
 "nbformat_minor": 4
}
